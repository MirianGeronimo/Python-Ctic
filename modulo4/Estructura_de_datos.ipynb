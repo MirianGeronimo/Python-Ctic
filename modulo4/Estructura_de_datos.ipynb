{
  "nbformat": 4,
  "nbformat_minor": 0,
  "metadata": {
    "colab": {
      "name": "modulo 4.ipynb",
      "provenance": [],
      "include_colab_link": true
    },
    "kernelspec": {
      "name": "python3",
      "display_name": "Python 3"
    },
    "language_info": {
      "name": "python"
    }
  },
  "cells": [
    {
      "cell_type": "markdown",
      "metadata": {
        "id": "view-in-github",
        "colab_type": "text"
      },
      "source": [
        "<a href=\"https://colab.research.google.com/github/MirianGeronimo/Python-Ctic/blob/main/modulo4/Estructura_de_datos.ipynb\" target=\"_parent\"><img src=\"https://colab.research.google.com/assets/colab-badge.svg\" alt=\"Open In Colab\"/></a>"
      ]
    },
    {
      "cell_type": "markdown",
      "source": [
        "---\n",
        "\n",
        "<b> Ejercicio 1</b>\n",
        "\n",
        "use un bucle **for** para imprimir los números del 1 al 20, inclusive.\n"
      ],
      "metadata": {
        "id": "v8l2iiax3w6L"
      }
    },
    {
      "cell_type": "code",
      "source": [
        "for i in range(1,21):\n",
        "  print(i)"
      ],
      "metadata": {
        "id": "gYGj9IzBMFMi",
        "outputId": "39246778-7078-4449-8128-106099200329",
        "colab": {
          "base_uri": "https://localhost:8080/"
        }
      },
      "execution_count": 31,
      "outputs": [
        {
          "output_type": "stream",
          "name": "stdout",
          "text": [
            "1\n",
            "2\n",
            "3\n",
            "4\n",
            "5\n",
            "6\n",
            "7\n",
            "8\n",
            "9\n",
            "10\n",
            "11\n",
            "12\n",
            "13\n",
            "14\n",
            "15\n",
            "16\n",
            "17\n",
            "18\n",
            "19\n",
            "20\n"
          ]
        }
      ]
    },
    {
      "cell_type": "markdown",
      "source": [
        "---\n",
        "\n",
        "<b> Ejercicio 2</b>\n",
        "\n",
        "Haga una lista de los números del uno al millón y luego use un ciclo for para imprimir los números. (Si la salida tarda demasiado, deténgala presionando CTRL-C o cerrando la ventana de salida).\n"
      ],
      "metadata": {
        "id": "rYzzJUd64HR1"
      }
    },
    {
      "cell_type": "code",
      "source": [
        "squares = [value for value in range(1, 11)]\n",
        "for j in range(10):\n",
        "  print(squares[j])"
      ],
      "metadata": {
        "id": "dDrJPvQaMhfc",
        "outputId": "80330408-31a3-404d-9455-32def0945af2",
        "colab": {
          "base_uri": "https://localhost:8080/"
        }
      },
      "execution_count": 32,
      "outputs": [
        {
          "output_type": "stream",
          "name": "stdout",
          "text": [
            "1\n",
            "2\n",
            "3\n",
            "4\n",
            "5\n",
            "6\n",
            "7\n",
            "8\n",
            "9\n",
            "10\n"
          ]
        }
      ]
    },
    {
      "cell_type": "markdown",
      "source": [
        "---\n",
        "\n",
        "<b> Ejercicio 3</b>\n",
        "\n",
        "Haga una lista de los números del uno al millón y luego use min() y max() para asegurarse de que su lista realmente comience en uno y termine en un millón. Además, use la función sum() para ver qué tan rápido Python puede agregar un millón de números.\n"
      ],
      "metadata": {
        "id": "2qrKdPpb4chR"
      }
    },
    {
      "cell_type": "code",
      "source": [
        "lista = [value for value in range(1, 1000001)]"
      ],
      "metadata": {
        "id": "9KKPE6wQM1PI"
      },
      "execution_count": 33,
      "outputs": []
    },
    {
      "cell_type": "code",
      "source": [
        "min(lista)"
      ],
      "metadata": {
        "id": "xb0Pm-x1Mndv",
        "outputId": "cf5cc642-c1c7-4471-f3d9-e4b7cdabb82b",
        "colab": {
          "base_uri": "https://localhost:8080/"
        }
      },
      "execution_count": 34,
      "outputs": [
        {
          "output_type": "execute_result",
          "data": {
            "text/plain": [
              "1"
            ]
          },
          "metadata": {},
          "execution_count": 34
        }
      ]
    },
    {
      "cell_type": "code",
      "source": [
        "max(lista)"
      ],
      "metadata": {
        "id": "wRsi_TP0Muy1",
        "outputId": "f78936ff-497a-4fd1-92e2-663817be5f5d",
        "colab": {
          "base_uri": "https://localhost:8080/"
        }
      },
      "execution_count": 35,
      "outputs": [
        {
          "output_type": "execute_result",
          "data": {
            "text/plain": [
              "1000000"
            ]
          },
          "metadata": {},
          "execution_count": 35
        }
      ]
    },
    {
      "cell_type": "code",
      "source": [
        "sum(lista)"
      ],
      "metadata": {
        "id": "xbPJAqaaMwyc",
        "outputId": "890d7c24-286d-425e-b339-2883aacc9bd2",
        "colab": {
          "base_uri": "https://localhost:8080/"
        }
      },
      "execution_count": 36,
      "outputs": [
        {
          "output_type": "execute_result",
          "data": {
            "text/plain": [
              "500000500000"
            ]
          },
          "metadata": {},
          "execution_count": 36
        }
      ]
    },
    {
      "cell_type": "markdown",
      "source": [
        "---\n",
        "\n",
        "<b> Ejercicio 4</b>\n",
        "\n",
        "Use el tercer argumento de la función range() para hacer una lista de los números impares del 1 al 20. Use un bucle for para imprimir cada número.\n"
      ],
      "metadata": {
        "id": "oizdiWqQ44qx"
      }
    },
    {
      "cell_type": "code",
      "source": [
        "squares = [value for value in range(1, 21,2)]\n",
        "for j in squares:\n",
        "  print(j)"
      ],
      "metadata": {
        "id": "lczRky8tNZBx",
        "outputId": "fe030be2-ea77-4675-edb5-19d3b19a037e",
        "colab": {
          "base_uri": "https://localhost:8080/"
        }
      },
      "execution_count": 37,
      "outputs": [
        {
          "output_type": "stream",
          "name": "stdout",
          "text": [
            "1\n",
            "3\n",
            "5\n",
            "7\n",
            "9\n",
            "11\n",
            "13\n",
            "15\n",
            "17\n",
            "19\n"
          ]
        }
      ]
    },
    {
      "cell_type": "markdown",
      "source": [
        "---\n",
        "\n",
        "<b> Ejercicio 5</b>\n",
        "\n",
        "Haga una lista de los múltiplos de 3 de 3 a 30. Use un ciclo for para imprimir los números en su lista.\n"
      ],
      "metadata": {
        "id": "yK9dmJJi5W6W"
      }
    },
    {
      "cell_type": "code",
      "source": [
        "squares = [value for value in range(3, 31,3)]\n",
        "for j in squares:\n",
        "  print(j)"
      ],
      "metadata": {
        "id": "ymJSQVB7Ngl2",
        "outputId": "6ed7214d-2d9a-48dd-f926-07c0c7e43564",
        "colab": {
          "base_uri": "https://localhost:8080/"
        }
      },
      "execution_count": 38,
      "outputs": [
        {
          "output_type": "stream",
          "name": "stdout",
          "text": [
            "3\n",
            "6\n",
            "9\n",
            "12\n",
            "15\n",
            "18\n",
            "21\n",
            "24\n",
            "27\n",
            "30\n"
          ]
        }
      ]
    },
    {
      "cell_type": "markdown",
      "source": [
        "---\n",
        "\n",
        "<b> Ejercicio 6</b>\n",
        "\n",
        "Haga una lista de los primeros 10 cubos (es decir, el cubo de cada número entero del 1 al 10) y use un ciclo for para imprimir el valor de cada cubo.\n"
      ],
      "metadata": {
        "id": "qqdPT25k5d23"
      }
    },
    {
      "cell_type": "code",
      "source": [
        "squares = [value**3 for value in range(1, 11)]\n",
        "for j in squares:\n",
        "  print(j)"
      ],
      "metadata": {
        "id": "wa3hfGYHNuc-",
        "outputId": "eec5ea1a-44bf-4a66-b12b-6a9a0d16364f",
        "colab": {
          "base_uri": "https://localhost:8080/"
        }
      },
      "execution_count": 39,
      "outputs": [
        {
          "output_type": "stream",
          "name": "stdout",
          "text": [
            "1\n",
            "8\n",
            "27\n",
            "64\n",
            "125\n",
            "216\n",
            "343\n",
            "512\n",
            "729\n",
            "1000\n"
          ]
        }
      ]
    },
    {
      "cell_type": "markdown",
      "source": [
        "---\n",
        "\n",
        "<b> Ejercicio 7</b>\n",
        "\n",
        "Use una lista de comprensión para generar una lista de los primeros 10 cubos.\n",
        "\n",
        "---"
      ],
      "metadata": {
        "id": "MQfhaTOo59GS"
      }
    },
    {
      "cell_type": "code",
      "source": [
        "squares = [value**3 for value in range(1, 11)]"
      ],
      "metadata": {
        "id": "1v4xFTNbN-3a"
      },
      "execution_count": 40,
      "outputs": []
    },
    {
      "cell_type": "markdown",
      "source": [
        "---\n",
        "\n",
        "<b> Ejercicio 1</b>\n",
        "\n",
        "Utilizando alguna lista definida anteriormente:\n",
        "\n",
        "*   Imprima el mensaje **Los tres primeros elementos de la lista son:**. Luego use un slice para imprimir los primeros tres elementos de la lista de ese programa.\n",
        "\n",
        "*   Imprima el mensaje **Tres elementos de la mitad de la lista son:**. Use un slice para imprimir tres elementos del medio de la lista.\n",
        "\n",
        "*   Imprima el mensaje **Los últimos tres elementos de la lista son:**. Utilice un slice para imprimir los últimos tres elementos de la lista."
      ],
      "metadata": {
        "id": "H30p04iC93Ma"
      }
    },
    {
      "cell_type": "code",
      "source": [
        "my_foods = ['pizza', 'falafel', 'carrot cake']\n",
        "print('Los tres primeros elementos de la lista son:')\n",
        "print(my_foods[0:3])"
      ],
      "metadata": {
        "id": "IaYkd63oOGOi",
        "outputId": "ef33ba4b-6ea4-4756-8a9c-2d721e460950",
        "colab": {
          "base_uri": "https://localhost:8080/"
        }
      },
      "execution_count": 48,
      "outputs": [
        {
          "output_type": "stream",
          "name": "stdout",
          "text": [
            "Los tres primeros elementos de la lista son:\n",
            "['pizza', 'falafel', 'carrot cake']\n"
          ]
        }
      ]
    },
    {
      "cell_type": "code",
      "source": [
        "print('Tres elementos de la mitad de la lista son:')\n",
        "print(my_foods[1:3])"
      ],
      "metadata": {
        "id": "JOHBHU1SORUh",
        "outputId": "6c8050ce-ecc3-4d96-c4fe-8845be067400",
        "colab": {
          "base_uri": "https://localhost:8080/"
        }
      },
      "execution_count": 49,
      "outputs": [
        {
          "output_type": "stream",
          "name": "stdout",
          "text": [
            "Tres elementos de la mitad de la lista son:\n",
            "['falafel', 'carrot cake']\n"
          ]
        }
      ]
    },
    {
      "cell_type": "code",
      "source": [
        "print('Los últimos tres elementos de la lista son:')\n",
        "print(my_foods[-3:])"
      ],
      "metadata": {
        "id": "ENzGbiJHObC3",
        "outputId": "1698b856-e4eb-4d8b-eeb7-a7bd8aef9fdc",
        "colab": {
          "base_uri": "https://localhost:8080/"
        }
      },
      "execution_count": 50,
      "outputs": [
        {
          "output_type": "stream",
          "name": "stdout",
          "text": [
            "Los últimos tres elementos de la lista son:\n",
            "['pizza', 'falafel', 'carrot cake']\n"
          ]
        }
      ]
    },
    {
      "cell_type": "markdown",
      "source": [
        "---\n",
        "\n",
        "<b> Ejercicio 2</b>\n",
        "\n",
        "Haga una copia de la lista de pizzas y llámela friend_pizzas. Luego, haz lo siguiente:\n",
        "\n",
        "* Agregue una nueva pizza a la lista original.\n",
        "* Agrega una pizza diferente a la lista friend_pizzas.\n",
        "* Demuestra que tienes dos listas separadas. Imprima el mensaje Mis pizzas favoritas son: y luego use un bucle for para imprimir la primera lista. Imprima el mensaje Las pizzas favoritas de mi amigo son: y luego use un bucle for para imprimir la segunda lista. Asegúrese de que cada pizza nueva se almacene en la lista adecuada."
      ],
      "metadata": {
        "id": "0SzOQQ7S_s1U"
      }
    },
    {
      "cell_type": "code",
      "source": [
        "pizzas = ['hawaiana', 'Clasica', 'cuatro-estaciones', 'extra_queso']\n",
        "friend_pizzas = pizzas[:]\n",
        "pizzas.append('extra_piña')\n",
        "friend_pizzas.append('sin_piña')\n",
        "print('Mis pizzas favoritas son:')\n",
        "for i in pizzas:\n",
        "  print(i)\n",
        "print('Las pizzas favoritas de mi amigo son:')\n",
        "for j in friend_pizzas:\n",
        "  print(j)"
      ],
      "metadata": {
        "id": "6iYEwzv_Odzh",
        "outputId": "31955c6c-7266-4ab8-da74-c188295b71e8",
        "colab": {
          "base_uri": "https://localhost:8080/"
        }
      },
      "execution_count": 51,
      "outputs": [
        {
          "output_type": "stream",
          "name": "stdout",
          "text": [
            "Mis pizzas favoritas son:\n",
            "hawaiana\n",
            "Clasica\n",
            "cuatro-estaciones\n",
            "extra_queso\n",
            "extra_piña\n",
            "Las pizzas favoritas de mi amigo son:\n",
            "hawaiana\n",
            "Clasica\n",
            "cuatro-estaciones\n",
            "extra_queso\n",
            "sin_piña\n"
          ]
        }
      ]
    },
    {
      "cell_type": "markdown",
      "source": [
        "---\n",
        "\n",
        "<b> Ejercicio 1</b>\n",
        "\n",
        "Un restaurante estilo buffet ofrece solo cinco alimentos básicos. Piense en cinco alimentos simples y guárdelos en una tupla.\n",
        "\n",
        "* Use un bucle for para imprimir cada comida que ofrece el restaurante.\n",
        "Intente modificar uno de los elementos y asegúrese de que Python rechace el cambio.\n",
        "* El restaurante cambia su menú, reemplazando dos de los artículos con comidas diferentes. Agregue una línea que reescriba la tupla y luego use un ciclo for para imprimir cada uno de los elementos en el menú revisado.\n",
        "\n",
        "---"
      ],
      "metadata": {
        "id": "WHk9FL9lDtBY"
      }
    },
    {
      "cell_type": "code",
      "source": [
        "dfined_tupla = ('alimento1', 'alimento2', 'alimento3', 'alimento4','alimento5')\n",
        "for value in dfined_tupla:\n",
        "  print(value)\n",
        "dfined_tupla[0]='alimento_modificado'\n"
      ],
      "metadata": {
        "id": "rLCd6f6mOwyz",
        "outputId": "ac20e829-c64a-474e-d363-d2d7ca88dc6c",
        "colab": {
          "base_uri": "https://localhost:8080/",
          "height": 288
        }
      },
      "execution_count": 52,
      "outputs": [
        {
          "output_type": "stream",
          "name": "stdout",
          "text": [
            "alimento1\n",
            "alimento2\n",
            "alimento3\n",
            "alimento4\n",
            "alimento5\n"
          ]
        },
        {
          "output_type": "error",
          "ename": "TypeError",
          "evalue": "ignored",
          "traceback": [
            "\u001b[0;31m---------------------------------------------------------------------------\u001b[0m",
            "\u001b[0;31mTypeError\u001b[0m                                 Traceback (most recent call last)",
            "\u001b[0;32m<ipython-input-52-3654e6624ac8>\u001b[0m in \u001b[0;36m<module>\u001b[0;34m\u001b[0m\n\u001b[1;32m      2\u001b[0m \u001b[0;32mfor\u001b[0m \u001b[0mvalue\u001b[0m \u001b[0;32min\u001b[0m \u001b[0mdfined_tupla\u001b[0m\u001b[0;34m:\u001b[0m\u001b[0;34m\u001b[0m\u001b[0;34m\u001b[0m\u001b[0m\n\u001b[1;32m      3\u001b[0m   \u001b[0mprint\u001b[0m\u001b[0;34m(\u001b[0m\u001b[0mvalue\u001b[0m\u001b[0;34m)\u001b[0m\u001b[0;34m\u001b[0m\u001b[0;34m\u001b[0m\u001b[0m\n\u001b[0;32m----> 4\u001b[0;31m \u001b[0mdfined_tupla\u001b[0m\u001b[0;34m[\u001b[0m\u001b[0;36m0\u001b[0m\u001b[0;34m]\u001b[0m\u001b[0;34m=\u001b[0m\u001b[0;34m'alimento_modificado'\u001b[0m\u001b[0;34m\u001b[0m\u001b[0;34m\u001b[0m\u001b[0m\n\u001b[0m",
            "\u001b[0;31mTypeError\u001b[0m: 'tuple' object does not support item assignment"
          ]
        }
      ]
    },
    {
      "cell_type": "code",
      "source": [
        "dfined_tupla2 = ('alimento_modificado1', 'alimento_modificado2', 'alimento3', 'alimento4', 'alimeto5')\n",
        "for value in dfined_tupla2:\n",
        "  print(value)"
      ],
      "metadata": {
        "id": "fSyJ6c5YR4FU",
        "outputId": "ad42de7f-330b-4ef5-e959-aeed8df7f91e",
        "colab": {
          "base_uri": "https://localhost:8080/"
        }
      },
      "execution_count": 53,
      "outputs": [
        {
          "output_type": "stream",
          "name": "stdout",
          "text": [
            "alimento_modificado1\n",
            "alimento_modificado2\n",
            "alimento3\n",
            "alimento4\n",
            "alimeto5\n"
          ]
        }
      ]
    },
    {
      "cell_type": "markdown",
      "source": [
        "---\n",
        "\n",
        "<b> Ejercicio 1</b>\n",
        "\n",
        "Usa un diccionario para almacenar información sobre una persona que conoces. Almacene su nombre, apellido, edad y la ciudad en la que vive. Debe tener claves como nombre, apellido, edad y ciudad. Imprima cada parte de información almacenada en su diccionario.\n",
        "\n"
      ],
      "metadata": {
        "id": "ctXa-OLlQaXn"
      }
    },
    {
      "cell_type": "code",
      "source": [
        "alien = {\n",
        "    'nombre': 'andrea',\n",
        "    'apellido': 'aparicio',\n",
        "    'edad': 25,\n",
        "    'ciudad': 'Lima',\n",
        "    }\n",
        "\n",
        "print(f\"Nombre: {alien['nombre']}.\")\n",
        "print(f\"Apellido: {alien['apellido']}.\")\n",
        "print(f\"Edad: {alien['edad']}.\")\n",
        "print(f\"Ciudad: {alien['ciudad']}.\")"
      ],
      "metadata": {
        "id": "adnXSbEMPWuE",
        "outputId": "e96ea727-162d-4af0-cfd4-15bd81ee24af",
        "colab": {
          "base_uri": "https://localhost:8080/"
        }
      },
      "execution_count": 54,
      "outputs": [
        {
          "output_type": "stream",
          "name": "stdout",
          "text": [
            "Nombre: andrea.\n",
            "Apellido: aparicio.\n",
            "Edad: 25.\n",
            "Ciudad: Lima.\n"
          ]
        }
      ]
    },
    {
      "cell_type": "markdown",
      "source": [
        "---\n",
        "\n",
        "<b> Ejercicio 2</b>\n",
        "\n",
        "Use un diccionario para almacenar los números favoritos de las personas. Piensa en cinco nombres y utilízalos como llaves en tu diccionario. Piense en un número favorito para cada persona y guárdelo como un valor en su diccionario. Escriba el nombre de cada persona y su número favorito. \n",
        "\n"
      ],
      "metadata": {
        "id": "7_krS5iiQ7KW"
      }
    },
    {
      "cell_type": "code",
      "source": [
        "numbers = {\n",
        "    'Alfredo': 1,\n",
        "    'Mariana': 2,\n",
        "    'Julio': 3,\n",
        "    'Nancy': 4,\n",
        "    'Jovana': 5,\n",
        "    }\n",
        "for i in numbers: \n",
        "  print(\"El numero favorito de \"+i+\" es :\") \n",
        "  print(numbers[i])"
      ],
      "metadata": {
        "id": "2wD38nhsPcLp",
        "outputId": "b55c13ec-b004-416f-857a-76dd35583582",
        "colab": {
          "base_uri": "https://localhost:8080/"
        }
      },
      "execution_count": 55,
      "outputs": [
        {
          "output_type": "stream",
          "name": "stdout",
          "text": [
            "El numero favorito de Alfredo es :\n",
            "1\n",
            "El numero favorito de Mariana es :\n",
            "2\n",
            "El numero favorito de Julio es :\n",
            "3\n",
            "El numero favorito de Nancy es :\n",
            "4\n",
            "El numero favorito de Jovana es :\n",
            "5\n"
          ]
        }
      ]
    },
    {
      "cell_type": "markdown",
      "source": [
        "---\n",
        "\n",
        "<b> Ejercicio 3</b>\n",
        "\n",
        "Piense en cinco palabras de programación que haya aprendido. Utilice estas palabras como llaves en su glosario y almacene sus significados como valores.\n",
        "\n",
        "Imprima cada palabra y su significado como una salida con un formato ordenado. Puede imprimir la palabra seguida de dos puntos y luego su significado, o imprimir la palabra en una línea y luego imprimir su significado con sangría en una segunda línea. Utilice el carácter de nueva línea (\\n) para insertar una línea en blanco entre cada par de palabra y significado en su salida.\n",
        "\n",
        "---"
      ],
      "metadata": {
        "id": "PmMzWA-nVOOi"
      }
    },
    {
      "cell_type": "code",
      "source": [
        "palabras = {\n",
        "    'def': 'definir una funcion',\n",
        "    'print': 'imprimir',\n",
        "    'input': 'entrada',\n",
        "    'return': 'valor de retorno',\n",
        "    'int': 'entero',\n",
        "    }\n",
        "for i in palabras: \n",
        "  print(\"\\nEl significado de \"+i+\" es :\") \n",
        "  print( palabras[i])"
      ],
      "metadata": {
        "id": "y7unE-QOPxqN",
        "outputId": "b48522d9-2b4e-4771-9348-a4e2b53a6473",
        "colab": {
          "base_uri": "https://localhost:8080/"
        }
      },
      "execution_count": 56,
      "outputs": [
        {
          "output_type": "stream",
          "name": "stdout",
          "text": [
            "\n",
            "El significado de def es :\n",
            "definir una funcion\n",
            "\n",
            "El significado de print es :\n",
            "imprimir\n",
            "\n",
            "El significado de input es :\n",
            "entrada\n",
            "\n",
            "El significado de return es :\n",
            "valor de retorno\n",
            "\n",
            "El significado de int es :\n",
            "entero\n"
          ]
        }
      ]
    },
    {
      "cell_type": "markdown",
      "source": [
        "---\n",
        "\n",
        "<b> Ejercicio 1</b>\n",
        "\n",
        "Haga un diccionario que contenga tres ríos principales y el país por el que pasa cada río. Un par clave-valor podría ser 'nilo': 'egipto'.\n",
        "\n",
        "* Use un bucle para imprimir una oración sobre cada río, como El Nilo atraviesa Egipto.\n",
        "* Utilice un bucle para imprimir el nombre de cada río incluido en el diccionario.\n",
        "* Use un bucle para imprimir el nombre de cada país incluido en el diccionario.\n"
      ],
      "metadata": {
        "id": "Ov6u5MxIj2WA"
      }
    },
    {
      "cell_type": "code",
      "source": [
        "rios = {\n",
        "    'rio Rin': 'Alemania',\n",
        "    'rio Sena': 'Francia',\n",
        "    'rio Tamesis': 'Inglaterra',\n",
        "    }\n",
        "for rio, pais in rios.items():\n",
        "  print(f\" El {rio} atraviesa {pais}.\")\n"
      ],
      "metadata": {
        "id": "g45Z2iUsP-x9",
        "outputId": "23c1276a-8ca4-4604-b4f4-a5635f0f53d7",
        "colab": {
          "base_uri": "https://localhost:8080/"
        }
      },
      "execution_count": 57,
      "outputs": [
        {
          "output_type": "stream",
          "name": "stdout",
          "text": [
            " El rio Rin atraviesa Alemania.\n",
            " El rio Sena atraviesa Francia.\n",
            " El rio Tamesis atraviesa Inglaterra.\n"
          ]
        }
      ]
    },
    {
      "cell_type": "code",
      "source": [
        "for clave, valor in rios.items(): \n",
        "  print(clave)"
      ],
      "metadata": {
        "id": "8N6h5gsEWnBz",
        "outputId": "e5940264-fcd0-4f98-ce70-b689cfe9b1f5",
        "colab": {
          "base_uri": "https://localhost:8080/"
        }
      },
      "execution_count": 58,
      "outputs": [
        {
          "output_type": "stream",
          "name": "stdout",
          "text": [
            "rio Rin\n",
            "rio Sena\n",
            "rio Tamesis\n"
          ]
        }
      ]
    },
    {
      "cell_type": "code",
      "source": [
        "for i in rios: \n",
        "  print(rios[i])"
      ],
      "metadata": {
        "id": "cm4SK9j0WYNY",
        "outputId": "e1eb5538-ae86-4e41-9b38-ca3ab54ef2b3",
        "colab": {
          "base_uri": "https://localhost:8080/"
        }
      },
      "execution_count": 59,
      "outputs": [
        {
          "output_type": "stream",
          "name": "stdout",
          "text": [
            "Alemania\n",
            "Francia\n",
            "Inglaterra\n"
          ]
        }
      ]
    },
    {
      "cell_type": "markdown",
      "source": [
        "---\n",
        "\n",
        "<b> Ejercicio 2</b>\n",
        "\n",
        "Haz una lista de las personas que deberían participar en la encuesta de idiomas favoritos. Incluye algunos nombres que ya estén en el diccionario y otros que no.\n",
        "Recorra la lista de personas que deberían realizar la encuesta. Si ya han realizado la encuesta, imprima un mensaje agradeciéndoles por responder. Si aún no han realizado la encuesta, imprima un mensaje invitándoles a realizar la encuesta.\n",
        "\n",
        "---"
      ],
      "metadata": {
        "id": "aSr26WfmkSSv"
      }
    },
    {
      "cell_type": "code",
      "source": [
        "#personas que deberían llenar la encuesta\n",
        "lista = ['maria', 'pedro', 'ana', 'miller', 'alfredo', 'susana']\n",
        "lista2=[]\n",
        "#personas que llenaron la encuesta\n",
        "dic = {\n",
        "    'maria': 'ingles',\n",
        "    'ana': 'frances',\n",
        "    'miller': 'aleman',\n",
        "    }\n",
        "\n",
        "for clave, valor in dic.items():\n",
        "    lista2.append(clave)\n",
        "for nombre in lista:\n",
        "  if nombre in lista2:\n",
        "    print(f\"Gracias por llenar la encuesta {nombre.title()}.\")\n",
        "  else:\n",
        "    print(f\"{nombre.title()}, le invitamos a llenar la encuesta.\")   "
      ],
      "metadata": {
        "id": "2pqZc7ZHYHxQ",
        "outputId": "b8a99d24-d914-42e5-e79c-e7e4250dfec7",
        "colab": {
          "base_uri": "https://localhost:8080/"
        }
      },
      "execution_count": 60,
      "outputs": [
        {
          "output_type": "stream",
          "name": "stdout",
          "text": [
            "Gracias por llenar la encuesta Maria.\n",
            "Pedro, le invitamos a llenar la encuesta.\n",
            "Gracias por llenar la encuesta Ana.\n",
            "Gracias por llenar la encuesta Miller.\n",
            "Alfredo, le invitamos a llenar la encuesta.\n",
            "Susana, le invitamos a llenar la encuesta.\n"
          ]
        }
      ]
    },
    {
      "cell_type": "markdown",
      "source": [
        "---\n",
        "\n",
        "<b> Ejercicio 1</b>\n",
        "\n",
        "Cree tres nuevos diccionarios que representen a diferentes personas y almacene los tres diccionarios en una lista llamada personas. Recorra su lista de personas. Mientras recorre la lista, imprima todo lo que sabe sobre cada persona.\n"
      ],
      "metadata": {
        "id": "3JJTjbfhmwks"
      }
    },
    {
      "cell_type": "code",
      "source": [
        "persona1 = {\n",
        "       'nombre': 'jenny',\n",
        "     'edad': 25,\n",
        "       }\n",
        "persona2 = {\n",
        "    'nombre' : 'maria',\n",
        "    'edad': 24,\n",
        "}\n",
        "persona3 = {\n",
        "    'nombre' : 'mercedes',\n",
        "    'edad': 23,\n",
        "}\n",
        "personas = [persona1, persona2, persona3]\n",
        "for persona in personas: \n",
        "  print(f\"Ella es {persona['nombre'].title()} y tiene {persona['edad']} años.\")"
      ],
      "metadata": {
        "id": "jFGpvhWuQNbO",
        "outputId": "62c2b940-fe86-453e-82ae-141c7cfd2b73",
        "colab": {
          "base_uri": "https://localhost:8080/"
        }
      },
      "execution_count": 61,
      "outputs": [
        {
          "output_type": "stream",
          "name": "stdout",
          "text": [
            "Ella es Jenny y tiene 25 años.\n",
            "Ella es Maria y tiene 24 años.\n",
            "Ella es Mercedes y tiene 23 años.\n"
          ]
        }
      ]
    },
    {
      "cell_type": "markdown",
      "source": [
        "---\n",
        "\n",
        "<b> Ejercicio 2</b>\n",
        "\n",
        "Haga varios diccionarios, donde cada diccionario represente una mascota diferente. En cada diccionario, incluya el tipo de animal y el nombre del dueño. Guarde estos diccionarios en una lista llamada mascotas. A continuación, recorra su lista y, mientras lo hace, imprima todo lo que sepa sobre cada mascota."
      ],
      "metadata": {
        "id": "oU2XiQHAnAtB"
      }
    },
    {
      "cell_type": "code",
      "source": [
        "mascota1 = {\n",
        "       'tipo': 'perro',\n",
        "     'dueño': 'Maria',\n",
        "     'edad' : 5\n",
        "       }\n",
        "mascota2 = {\n",
        "    'tipo' : 'gato',\n",
        "    'dueño': 'Franss',\n",
        "    'edad' : 10\n",
        "}\n",
        "mascota3 = {\n",
        "    'tipo' : 'conejo',\n",
        "    'dueño': 'Miller',\n",
        "    'edad' : 14\n",
        "}\n",
        "mascotas = [mascota1, mascota2, mascota3]\n",
        "for mascota in mascotas: \n",
        "  print(f\" El {mascota['tipo'].title()} tiene {mascota['edad']} años y su dueño es {mascota['dueño']}.\")"
      ],
      "metadata": {
        "id": "8T_eCZ4vgs8n",
        "outputId": "1570b054-9ef3-42d5-f729-3900379a88ce",
        "colab": {
          "base_uri": "https://localhost:8080/"
        }
      },
      "execution_count": 62,
      "outputs": [
        {
          "output_type": "stream",
          "name": "stdout",
          "text": [
            " El Perro tiene 5 años y su dueño es Maria.\n",
            " El Gato tiene 10 años y su dueño es Franss.\n",
            " El Conejo tiene 14 años y su dueño es Miller.\n"
          ]
        }
      ]
    },
    {
      "cell_type": "markdown",
      "source": [
        "---\n",
        "\n",
        "<b> Ejercicio 3</b>\n",
        "\n",
        "Haga un diccionario llamado lugares_favoritos. Piense en tres nombres para usar como llaves en el diccionario y almacene de uno a tres lugares favoritos para cada persona. Recorre el diccionario e imprime el nombre de cada persona y sus lugares favoritos."
      ],
      "metadata": {
        "id": "YH2BoPpVnMLu"
      }
    },
    {
      "cell_type": "code",
      "source": [
        "lugares_favoritos = {\n",
        "    'Miller':  'playa' ,\n",
        "    'Franss':  'parque',\n",
        "    'Daiver':  'cine'\n",
        "}\n",
        "\n",
        "for llave, valor in lugares_favoritos.items(): \n",
        "  print(f\" El lugar favorito de {llave.title()} es {valor}.\")"
      ],
      "metadata": {
        "id": "A23dEStXh0Uc",
        "outputId": "98e3c81f-ad7d-44a4-fbfc-21616096dcee",
        "colab": {
          "base_uri": "https://localhost:8080/"
        }
      },
      "execution_count": 63,
      "outputs": [
        {
          "output_type": "stream",
          "name": "stdout",
          "text": [
            " El lugar favorito de Miller es playa.\n",
            " El lugar favorito de Franss es parque.\n",
            " El lugar favorito de Daiver es cine.\n"
          ]
        }
      ]
    },
    {
      "cell_type": "markdown",
      "source": [
        "---\n",
        "\n",
        "<b> Ejercicio 4</b>\n",
        "\n",
        "Haz un diccionario llamado ciudades. Usa los nombres de tres ciudades como llaves en tu diccionario. Cree un diccionario de información sobre cada ciudad e incluya el país en el que se encuentra la ciudad, su población aproximada y un dato sobre esa ciudad. Las claves para el diccionario de cada ciudad deben ser algo como país, población y hecho. Imprime el nombre de cada ciudad y toda la información que tengas almacenada sobre ella."
      ],
      "metadata": {
        "id": "YjkTHXHWnY-y"
      }
    },
    {
      "cell_type": "code",
      "source": [
        "ciudades = {\n",
        "    'Tarapoto':  ['Peru', 'poblacion:180,073', 'Tarapoto tiene un clima tropical.'] ,\n",
        "    'Ica':  ['Peru', 'poblacion:282,407', 'Ica está situado en el sur.'],\n",
        "    'Chiclayo':  ['Peru', 'poblacion:552,508 ', 'Chiclayo tiene playas my bonitas.']\n",
        "}\n",
        "for city, information in ciudades.items():\n",
        "  print(f\"\\nLa información de la ciudad de {city} es:\")\n",
        "\n",
        "  for info in information:\n",
        "    print(f\"\\t{info}\")\n"
      ],
      "metadata": {
        "id": "8XJTujinsk6n",
        "outputId": "9bd928c5-1dbf-49ff-822d-5aa0327f1d5c",
        "colab": {
          "base_uri": "https://localhost:8080/"
        }
      },
      "execution_count": 64,
      "outputs": [
        {
          "output_type": "stream",
          "name": "stdout",
          "text": [
            "\n",
            "La información de la ciudad de Tarapoto es:\n",
            "\tPeru\n",
            "\tpoblacion:180,073\n",
            "\tTarapoto tiene un clima tropical.\n",
            "\n",
            "La información de la ciudad de Ica es:\n",
            "\tPeru\n",
            "\tpoblacion:282,407\n",
            "\tIca está situado en el sur.\n",
            "\n",
            "La información de la ciudad de Chiclayo es:\n",
            "\tPeru\n",
            "\tpoblacion:552,508 \n",
            "\tChiclayo tiene playas my bonitas.\n"
          ]
        }
      ]
    },
    {
      "cell_type": "markdown",
      "source": [
        "---\n",
        "\n",
        "<b> Ejercicio 5</b>\n",
        "\n",
        "Ahora estamos trabajando con ejemplos que son lo suficientemente complejos como para que puedan extenderse de varias maneras. Utilice uno de los programas de este laboratorio y amplíelo agregando nuevas claves y valores, cambiando el contexto del programa o mejorando el formato de la salida.\n",
        "\n",
        "---"
      ],
      "metadata": {
        "id": "hMvNIar-nqAr"
      }
    },
    {
      "cell_type": "code",
      "source": [
        "cursos = []\n",
        "\n",
        "for curso_number in range(6):\n",
        "    new_curso = {'curso': 'Calculo diferencial', 'dia': 'miercoles', 'director': 'Juan Perez', 'Alumnos':50, 'turno': 'Mañana'}\n",
        "    cursos.append(new_curso)\n",
        "\n",
        "for curso in cursos[:3]:\n",
        "    if curso['curso'] == 'Calculo diferencial':\n",
        "        curso['curso'] = 'Calculo integral'\n",
        "        curso['dia'] = 'martes'\n",
        "        curso['turno'] = 'noche'\n",
        "        curso['Alumnos'] = 48\n",
        "for curso in cursos[:]:\n",
        "    print(curso)\n",
        "\n",
        "\n",
        "print(f\"T: Numero total de cursos: {len(cursos)}\")"
      ],
      "metadata": {
        "id": "W1n9V1a4xsan",
        "colab": {
          "base_uri": "https://localhost:8080/"
        },
        "outputId": "860fb64b-1afd-407b-acce-9f52bfd57d64"
      },
      "execution_count": 66,
      "outputs": [
        {
          "output_type": "stream",
          "name": "stdout",
          "text": [
            "{'curso': 'Calculo integral', 'dia': 'martes', 'director': 'Juan Perez', 'Alumnos': 48, 'turno': 'noche'}\n",
            "{'curso': 'Calculo integral', 'dia': 'martes', 'director': 'Juan Perez', 'Alumnos': 48, 'turno': 'noche'}\n",
            "{'curso': 'Calculo integral', 'dia': 'martes', 'director': 'Juan Perez', 'Alumnos': 48, 'turno': 'noche'}\n",
            "{'curso': 'Calculo diferencial', 'dia': 'miercoles', 'director': 'Juan Perez', 'Alumnos': 50, 'turno': 'Mañana'}\n",
            "{'curso': 'Calculo diferencial', 'dia': 'miercoles', 'director': 'Juan Perez', 'Alumnos': 50, 'turno': 'Mañana'}\n",
            "{'curso': 'Calculo diferencial', 'dia': 'miercoles', 'director': 'Juan Perez', 'Alumnos': 50, 'turno': 'Mañana'}\n",
            "T: Numero total de cursos: 6\n"
          ]
        }
      ]
    },
    {
      "cell_type": "markdown",
      "source": [
        "---\n",
        "\n",
        "# Gracias por completar este laboratorio!\n",
        "\n",
        "---\n"
      ],
      "metadata": {
        "id": "LY_03M0BoJZQ"
      }
    }
  ]
}