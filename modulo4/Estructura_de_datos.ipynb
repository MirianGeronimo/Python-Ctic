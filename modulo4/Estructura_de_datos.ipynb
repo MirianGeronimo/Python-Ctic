{
  "nbformat": 4,
  "nbformat_minor": 0,
  "metadata": {
    "colab": {
      "name": "modulo 4.ipynb",
      "provenance": [],
      "include_colab_link": true
    },
    "kernelspec": {
      "name": "python3",
      "display_name": "Python 3"
    },
    "language_info": {
      "name": "python"
    }
  },
  "cells": [
    {
      "cell_type": "markdown",
      "metadata": {
        "id": "view-in-github",
        "colab_type": "text"
      },
      "source": [
        "<a href=\"https://colab.research.google.com/github/MirianGeronimo/Python-Ctic/blob/main/modulo4/Estructura_de_datos.ipynb\" target=\"_parent\"><img src=\"https://colab.research.google.com/assets/colab-badge.svg\" alt=\"Open In Colab\"/></a>"
      ]
    },
    {
      "cell_type": "markdown",
      "source": [
        "<img src=\"https://www.ctic.uni.edu.pe/wp-content/uploads/2022/04/588px-x-348px-web-1.png\" alt=\"HTML5 Icon\" width=\"900\" height=\"350\" >"
      ],
      "metadata": {
        "id": "atsxxNXNyS0i"
      }
    },
    {
      "cell_type": "markdown",
      "source": [
        "<h1 align=center><font size = 5>UNIDAD IV - ESTRUCTURAS DE DATOS\n",
        "</font></h1>\n",
        "\n",
        "---"
      ],
      "metadata": {
        "id": "4p5vLlhHyXK5"
      }
    },
    {
      "cell_type": "markdown",
      "source": [
        "## Tabla de Contenidos\n",
        "\n",
        "<div class=\"alert alert-block alert-info\" style=\"margin-top: 20px\">\n",
        "\n",
        "<font size = 3>\n",
        "    \n",
        "1. <a href=\"#item31\">Trabajando con Listas numéricas</a>\n",
        "2. <a href=\"#item31\">Trabajando con slices</a>  \n",
        "3. <a href=\"#item31\">Tuplas</a>  \n",
        "4. <a href=\"#item31\">Diccionarios</a>  \n",
        "\n",
        "</font>\n",
        "</div>\n",
        "\n",
        "---"
      ],
      "metadata": {
        "id": "y0BfNj-RyguL"
      }
    },
    {
      "cell_type": "markdown",
      "source": [
        "# 1. Trabajando con Listas numéricas"
      ],
      "metadata": {
        "id": "fY5fHyw61UB5"
      }
    },
    {
      "cell_type": "code",
      "execution_count": null,
      "metadata": {
        "id": "A2OxEnshtGJD"
      },
      "outputs": [],
      "source": [
        "numeros = [1, 2, 3, 4, 5]"
      ]
    },
    {
      "cell_type": "code",
      "source": [
        "numeros"
      ],
      "metadata": {
        "id": "BusmC4LB1gI8"
      },
      "execution_count": null,
      "outputs": []
    },
    {
      "cell_type": "markdown",
      "source": [
        "### Usando la función rango"
      ],
      "metadata": {
        "id": "0GbfBGic15oY"
      }
    },
    {
      "cell_type": "code",
      "source": [
        "range(1, 5)"
      ],
      "metadata": {
        "id": "0CtByQBZ2A3Z"
      },
      "execution_count": null,
      "outputs": []
    },
    {
      "cell_type": "code",
      "source": [
        "for value in range(1, 5):\n",
        "    print(value)"
      ],
      "metadata": {
        "id": "HluipgiKyPn4"
      },
      "execution_count": null,
      "outputs": []
    },
    {
      "cell_type": "code",
      "source": [
        "for value in range(1, 6):\n",
        "    print(value)"
      ],
      "metadata": {
        "id": "gPtNEJGW2Jvo"
      },
      "execution_count": null,
      "outputs": []
    },
    {
      "cell_type": "markdown",
      "source": [
        "### Usando range para crear listas de números"
      ],
      "metadata": {
        "id": "KKwKZnLy2XpE"
      }
    },
    {
      "cell_type": "code",
      "source": [
        "numbers = list(range(1, 6))\n",
        "print(numbers)"
      ],
      "metadata": {
        "id": "UBobqcAl2bLs"
      },
      "execution_count": null,
      "outputs": []
    },
    {
      "cell_type": "code",
      "source": [
        "even_numbers = list(range(2, 11, 2))\n",
        "print(even_numbers)"
      ],
      "metadata": {
        "id": "q0peFV6_2iqr"
      },
      "execution_count": null,
      "outputs": []
    },
    {
      "cell_type": "code",
      "source": [
        "squares = []\n",
        "\n",
        "for value in range(1, 11):\n",
        "    square = value ** 2\n",
        "    squares.append(square)\n",
        "    \n",
        "print(squares)"
      ],
      "metadata": {
        "id": "B9Hv0maM2mnU"
      },
      "execution_count": null,
      "outputs": []
    },
    {
      "cell_type": "code",
      "source": [
        "squares = []\n",
        "\n",
        "for value in range(1,11):\n",
        "    squares.append(value**2)\n",
        "    \n",
        "print(squares)"
      ],
      "metadata": {
        "id": "nIx-oVSe273S"
      },
      "execution_count": null,
      "outputs": []
    },
    {
      "cell_type": "markdown",
      "source": [
        "### Estadísticos sencillos de listas"
      ],
      "metadata": {
        "id": "UnVQ75Gz3GkM"
      }
    },
    {
      "cell_type": "code",
      "source": [
        "digits = [1, 2, 3, 4, 5, 6, 7, 8, 9, 0]"
      ],
      "metadata": {
        "id": "HcLwRAdU3Jy8"
      },
      "execution_count": null,
      "outputs": []
    },
    {
      "cell_type": "code",
      "source": [
        "min(digits)"
      ],
      "metadata": {
        "id": "arSK6kOr3Nwg"
      },
      "execution_count": null,
      "outputs": []
    },
    {
      "cell_type": "code",
      "source": [
        "max(digits)"
      ],
      "metadata": {
        "id": "z13AFiLo3Pyr"
      },
      "execution_count": null,
      "outputs": []
    },
    {
      "cell_type": "code",
      "source": [
        "sum(digits)"
      ],
      "metadata": {
        "id": "VE_QfNBq3SIY"
      },
      "execution_count": null,
      "outputs": []
    },
    {
      "cell_type": "markdown",
      "source": [
        "### List Comprehensions\n"
      ],
      "metadata": {
        "id": "H68897kt3Xan"
      }
    },
    {
      "cell_type": "code",
      "source": [
        "squares = [value**2 for value in range(1, 11)]\n",
        "print(squares)"
      ],
      "metadata": {
        "id": "1iXCqqK43Yrq"
      },
      "execution_count": null,
      "outputs": []
    },
    {
      "cell_type": "markdown",
      "source": [
        "---\n",
        "\n",
        "<b> Ejercicio 1</b>\n",
        "\n",
        "use un bucle **for** para imprimir los números del 1 al 20, inclusive.\n"
      ],
      "metadata": {
        "id": "v8l2iiax3w6L"
      }
    },
    {
      "cell_type": "code",
      "source": [
        "for i in range(1,21):\n",
        "  print(i)"
      ],
      "metadata": {
        "id": "gYGj9IzBMFMi",
        "outputId": "f365e394-abe1-400d-a73f-01b6c89ef812",
        "colab": {
          "base_uri": "https://localhost:8080/"
        }
      },
      "execution_count": null,
      "outputs": [
        {
          "output_type": "stream",
          "name": "stdout",
          "text": [
            "1\n",
            "2\n",
            "3\n",
            "4\n",
            "5\n",
            "6\n",
            "7\n",
            "8\n",
            "9\n",
            "10\n",
            "11\n",
            "12\n",
            "13\n",
            "14\n",
            "15\n",
            "16\n",
            "17\n",
            "18\n",
            "19\n",
            "20\n"
          ]
        }
      ]
    },
    {
      "cell_type": "markdown",
      "source": [
        "---\n",
        "\n",
        "<b> Ejercicio 2</b>\n",
        "\n",
        "Haga una lista de los números del uno al millón y luego use un ciclo for para imprimir los números. (Si la salida tarda demasiado, deténgala presionando CTRL-C o cerrando la ventana de salida).\n"
      ],
      "metadata": {
        "id": "rYzzJUd64HR1"
      }
    },
    {
      "cell_type": "code",
      "source": [
        "squares = [value for value in range(1, 11)]\n",
        "for j in range(10):\n",
        "  print(squares[j])"
      ],
      "metadata": {
        "id": "dDrJPvQaMhfc",
        "outputId": "ca28a9ee-e8f6-4630-e118-7638df738c0a",
        "colab": {
          "base_uri": "https://localhost:8080/"
        }
      },
      "execution_count": null,
      "outputs": [
        {
          "output_type": "stream",
          "name": "stdout",
          "text": [
            "1\n",
            "2\n",
            "3\n",
            "4\n",
            "5\n",
            "6\n",
            "7\n",
            "8\n",
            "9\n",
            "10\n"
          ]
        }
      ]
    },
    {
      "cell_type": "markdown",
      "source": [
        "---\n",
        "\n",
        "<b> Ejercicio 3</b>\n",
        "\n",
        "Haga una lista de los números del uno al millón y luego use min() y max() para asegurarse de que su lista realmente comience en uno y termine en un millón. Además, use la función sum() para ver qué tan rápido Python puede agregar un millón de números.\n"
      ],
      "metadata": {
        "id": "2qrKdPpb4chR"
      }
    },
    {
      "cell_type": "code",
      "source": [
        "lista = [value for value in range(1, 1000001)]"
      ],
      "metadata": {
        "id": "9KKPE6wQM1PI"
      },
      "execution_count": null,
      "outputs": []
    },
    {
      "cell_type": "code",
      "source": [
        "min(lista)"
      ],
      "metadata": {
        "id": "xb0Pm-x1Mndv",
        "outputId": "90d9dbbd-20b8-4431-afdc-274ee9b5ae54",
        "colab": {
          "base_uri": "https://localhost:8080/"
        }
      },
      "execution_count": null,
      "outputs": [
        {
          "output_type": "execute_result",
          "data": {
            "text/plain": [
              "1"
            ]
          },
          "metadata": {},
          "execution_count": 7
        }
      ]
    },
    {
      "cell_type": "code",
      "source": [
        "max(lista)"
      ],
      "metadata": {
        "id": "wRsi_TP0Muy1",
        "outputId": "0337fb81-4fca-4ff0-b218-2e521a0fb273",
        "colab": {
          "base_uri": "https://localhost:8080/"
        }
      },
      "execution_count": null,
      "outputs": [
        {
          "output_type": "execute_result",
          "data": {
            "text/plain": [
              "1000000"
            ]
          },
          "metadata": {},
          "execution_count": 8
        }
      ]
    },
    {
      "cell_type": "code",
      "source": [
        "sum(lista)"
      ],
      "metadata": {
        "id": "xbPJAqaaMwyc",
        "outputId": "894efdd8-0c3b-4217-e6b7-2e59cf3ef941",
        "colab": {
          "base_uri": "https://localhost:8080/"
        }
      },
      "execution_count": null,
      "outputs": [
        {
          "output_type": "execute_result",
          "data": {
            "text/plain": [
              "500000500000"
            ]
          },
          "metadata": {},
          "execution_count": 9
        }
      ]
    },
    {
      "cell_type": "markdown",
      "source": [
        "---\n",
        "\n",
        "<b> Ejercicio 4</b>\n",
        "\n",
        "Use el tercer argumento de la función range() para hacer una lista de los números impares del 1 al 20. Use un bucle for para imprimir cada número.\n"
      ],
      "metadata": {
        "id": "oizdiWqQ44qx"
      }
    },
    {
      "cell_type": "code",
      "source": [
        "squares = [value for value in range(1, 21,2)]\n",
        "for j in squares:\n",
        "  print(j)"
      ],
      "metadata": {
        "id": "lczRky8tNZBx",
        "outputId": "b095ee3a-079f-4fc5-b25a-25289d968eff",
        "colab": {
          "base_uri": "https://localhost:8080/"
        }
      },
      "execution_count": null,
      "outputs": [
        {
          "output_type": "stream",
          "name": "stdout",
          "text": [
            "1\n",
            "3\n",
            "5\n",
            "7\n",
            "9\n",
            "11\n",
            "13\n",
            "15\n",
            "17\n",
            "19\n"
          ]
        }
      ]
    },
    {
      "cell_type": "markdown",
      "source": [
        "---\n",
        "\n",
        "<b> Ejercicio 5</b>\n",
        "\n",
        "Haga una lista de los múltiplos de 3 de 3 a 30. Use un ciclo for para imprimir los números en su lista.\n"
      ],
      "metadata": {
        "id": "yK9dmJJi5W6W"
      }
    },
    {
      "cell_type": "code",
      "source": [
        "squares = [value for value in range(3, 31,3)]\n",
        "for j in squares:\n",
        "  print(j)"
      ],
      "metadata": {
        "id": "ymJSQVB7Ngl2",
        "outputId": "e5479c3d-5698-4b3b-a0b4-aa3869f62e9d",
        "colab": {
          "base_uri": "https://localhost:8080/"
        }
      },
      "execution_count": null,
      "outputs": [
        {
          "output_type": "stream",
          "name": "stdout",
          "text": [
            "3\n",
            "6\n",
            "9\n",
            "12\n",
            "15\n",
            "18\n",
            "21\n",
            "24\n",
            "27\n",
            "30\n"
          ]
        }
      ]
    },
    {
      "cell_type": "markdown",
      "source": [
        "---\n",
        "\n",
        "<b> Ejercicio 6</b>\n",
        "\n",
        "Haga una lista de los primeros 10 cubos (es decir, el cubo de cada número entero del 1 al 10) y use un ciclo for para imprimir el valor de cada cubo.\n"
      ],
      "metadata": {
        "id": "qqdPT25k5d23"
      }
    },
    {
      "cell_type": "code",
      "source": [
        "squares = [value**3 for value in range(1, 11)]\n",
        "for j in squares:\n",
        "  print(j)"
      ],
      "metadata": {
        "id": "wa3hfGYHNuc-",
        "outputId": "89df415b-245f-42cf-bd1b-81f2b3aa778a",
        "colab": {
          "base_uri": "https://localhost:8080/"
        }
      },
      "execution_count": null,
      "outputs": [
        {
          "output_type": "stream",
          "name": "stdout",
          "text": [
            "1\n",
            "8\n",
            "27\n",
            "64\n",
            "125\n",
            "216\n",
            "343\n",
            "512\n",
            "729\n",
            "1000\n"
          ]
        }
      ]
    },
    {
      "cell_type": "markdown",
      "source": [
        "---\n",
        "\n",
        "<b> Ejercicio 7</b>\n",
        "\n",
        "Use una lista de comprensión para generar una lista de los primeros 10 cubos.\n",
        "\n",
        "---"
      ],
      "metadata": {
        "id": "MQfhaTOo59GS"
      }
    },
    {
      "cell_type": "code",
      "source": [
        "squares = [value**3 for value in range(1, 11)]"
      ],
      "metadata": {
        "id": "1v4xFTNbN-3a"
      },
      "execution_count": null,
      "outputs": []
    },
    {
      "cell_type": "markdown",
      "source": [
        "# 2. Trabajando con slices"
      ],
      "metadata": {
        "id": "-h_22RYJ6U9R"
      }
    },
    {
      "cell_type": "markdown",
      "source": [
        "### Slice"
      ],
      "metadata": {
        "id": "pEWaaEih67Yz"
      }
    },
    {
      "cell_type": "code",
      "source": [
        "players = ['charles', 'martina', 'michael', 'florence', 'eli']\n",
        "print(players[0:3])\n"
      ],
      "metadata": {
        "id": "OaraZKkC41r_"
      },
      "execution_count": null,
      "outputs": []
    },
    {
      "cell_type": "code",
      "source": [
        "print(players[1:4])"
      ],
      "metadata": {
        "id": "rsh7DhJd7Zek"
      },
      "execution_count": null,
      "outputs": []
    },
    {
      "cell_type": "code",
      "source": [
        "print(players[:4])"
      ],
      "metadata": {
        "id": "PcO-p-IS7cs4"
      },
      "execution_count": null,
      "outputs": []
    },
    {
      "cell_type": "code",
      "source": [
        "print(players[2:])"
      ],
      "metadata": {
        "id": "eFiNncoN7gej"
      },
      "execution_count": null,
      "outputs": []
    },
    {
      "cell_type": "code",
      "source": [
        "print(players[-3:])"
      ],
      "metadata": {
        "id": "JjOgBbXy7krV"
      },
      "execution_count": null,
      "outputs": []
    },
    {
      "cell_type": "markdown",
      "source": [
        "### Loop a través de un slice"
      ],
      "metadata": {
        "id": "CtAMacFd7qOP"
      }
    },
    {
      "cell_type": "code",
      "source": [
        "players = ['charles', 'martina', 'michael', 'florence', 'eli']\n",
        "\n",
        "print(\"Estos son los tres primeros jugadores del equipo:\")\n",
        "for player in players[:3]:\n",
        "    print(player.title())"
      ],
      "metadata": {
        "id": "uB10K-mq7vi-"
      },
      "execution_count": null,
      "outputs": []
    },
    {
      "cell_type": "markdown",
      "source": [
        "### Copiando una lista"
      ],
      "metadata": {
        "id": "jsCWYHQC8Faa"
      }
    },
    {
      "cell_type": "code",
      "source": [
        "my_foods = ['pizza', 'falafel', 'carrot cake']\n",
        "friend_foods = my_foods[:]"
      ],
      "metadata": {
        "id": "x8Vk1ehE8I21"
      },
      "execution_count": null,
      "outputs": []
    },
    {
      "cell_type": "code",
      "source": [
        "print(\"Mis platillos favoritos son:\")\n",
        "print(my_foods)"
      ],
      "metadata": {
        "id": "z0LWVPBd8SCK"
      },
      "execution_count": null,
      "outputs": []
    },
    {
      "cell_type": "code",
      "source": [
        "print(\"\\nMis platillos favoritos son:\")\n",
        "print(friend_foods)"
      ],
      "metadata": {
        "id": "WwwjEoWS8bcG"
      },
      "execution_count": null,
      "outputs": []
    },
    {
      "cell_type": "code",
      "source": [
        "my_foods.append('cannoli')\n",
        "friend_foods.append('ice cream')\n"
      ],
      "metadata": {
        "id": "722i5Iju865m"
      },
      "execution_count": null,
      "outputs": []
    },
    {
      "cell_type": "code",
      "source": [
        "print(\"Mis platillos favoritos son:\")\n",
        "print(my_foods)"
      ],
      "metadata": {
        "id": "WrvMdmk59CJ3"
      },
      "execution_count": null,
      "outputs": []
    },
    {
      "cell_type": "code",
      "source": [
        "print(\"\\nMis platillos favoritos son:\")\n",
        "print(friend_foods)"
      ],
      "metadata": {
        "id": "IUCV_DlY9DuC"
      },
      "execution_count": null,
      "outputs": []
    },
    {
      "cell_type": "markdown",
      "source": [
        "---\n",
        "\n",
        "<b> Ejercicio 1</b>\n",
        "\n",
        "Utilizando alguna lista definida anteriormente:\n",
        "\n",
        "*   Imprima el mensaje **Los tres primeros elementos de la lista son:**. Luego use un slice para imprimir los primeros tres elementos de la lista de ese programa.\n",
        "\n",
        "*   Imprima el mensaje **Tres elementos de la mitad de la lista son:**. Use un slice para imprimir tres elementos del medio de la lista.\n",
        "\n",
        "*   Imprima el mensaje **Los últimos tres elementos de la lista son:**. Utilice un slice para imprimir los últimos tres elementos de la lista."
      ],
      "metadata": {
        "id": "H30p04iC93Ma"
      }
    },
    {
      "cell_type": "code",
      "source": [
        "my_foods = ['pizza', 'falafel', 'carrot cake']\n",
        "print('Los tres primeros elementos de la lista son:')\n",
        "print(my_foods[0:3])"
      ],
      "metadata": {
        "id": "IaYkd63oOGOi",
        "outputId": "4479378e-b368-46ad-8826-d0d7c6493b9b",
        "colab": {
          "base_uri": "https://localhost:8080/"
        }
      },
      "execution_count": null,
      "outputs": [
        {
          "output_type": "stream",
          "name": "stdout",
          "text": [
            "Los tres primeros elementos de la lista son:\n",
            "['pizza', 'falafel', 'carrot cake']\n"
          ]
        }
      ]
    },
    {
      "cell_type": "code",
      "source": [
        "print('Tres elementos de la mitad de la lista son:')\n",
        "print(my_foods[1:3])"
      ],
      "metadata": {
        "id": "JOHBHU1SORUh",
        "outputId": "33e1a435-a051-4379-f339-324e7b210bae",
        "colab": {
          "base_uri": "https://localhost:8080/"
        }
      },
      "execution_count": null,
      "outputs": [
        {
          "output_type": "stream",
          "name": "stdout",
          "text": [
            "Tres elementos de la mitad de la lista son:\n",
            "['falafel', 'carrot cake']\n"
          ]
        }
      ]
    },
    {
      "cell_type": "code",
      "source": [
        "print('Los últimos tres elementos de la lista son:')\n",
        "print(my_foods[-3:])"
      ],
      "metadata": {
        "id": "ENzGbiJHObC3",
        "outputId": "15b4a0f1-f5ae-46d1-c550-4d3621267545",
        "colab": {
          "base_uri": "https://localhost:8080/"
        }
      },
      "execution_count": null,
      "outputs": [
        {
          "output_type": "stream",
          "name": "stdout",
          "text": [
            "Los últimos tres elementos de la lista son:\n",
            "['pizza', 'falafel', 'carrot cake']\n"
          ]
        }
      ]
    },
    {
      "cell_type": "markdown",
      "source": [
        "---\n",
        "\n",
        "<b> Ejercicio 2</b>\n",
        "\n",
        "Haga una copia de la lista de pizzas y llámela friend_pizzas. Luego, haz lo siguiente:\n",
        "\n",
        "* Agregue una nueva pizza a la lista original.\n",
        "* Agrega una pizza diferente a la lista friend_pizzas.\n",
        "* Demuestra que tienes dos listas separadas. Imprima el mensaje Mis pizzas favoritas son: y luego use un bucle for para imprimir la primera lista. Imprima el mensaje Las pizzas favoritas de mi amigo son: y luego use un bucle for para imprimir la segunda lista. Asegúrese de que cada pizza nueva se almacene en la lista adecuada."
      ],
      "metadata": {
        "id": "0SzOQQ7S_s1U"
      }
    },
    {
      "cell_type": "code",
      "source": [
        "pizzas = ['pizza1', 'pizza2', 'pizza3', 'pizza4']\n",
        "friend_pizzas = pizzas[:]\n",
        "pizzas.append('pizza5')\n",
        "friend_pizzas.append('pizza5*')\n",
        "print('Mis pizzas favoritas son:')\n",
        "for i in pizzas:\n",
        "  print(i)\n",
        "print('Las pizzas favoritas de mi amigo son:')\n",
        "for j in friend_pizzas:\n",
        "  print(j)"
      ],
      "metadata": {
        "id": "6iYEwzv_Odzh",
        "outputId": "09e8fd9d-8fe7-446f-9b26-4e29412e6085",
        "colab": {
          "base_uri": "https://localhost:8080/"
        }
      },
      "execution_count": null,
      "outputs": [
        {
          "output_type": "stream",
          "name": "stdout",
          "text": [
            "Mis pizzas favoritas son:\n",
            "pizza1\n",
            "pizza2\n",
            "pizza3\n",
            "pizza4\n",
            "pizza5\n",
            "Las pizzas favoritas de mi amigo son:\n",
            "pizza1\n",
            "pizza2\n",
            "pizza3\n",
            "pizza4\n",
            "pizza5*\n"
          ]
        }
      ]
    },
    {
      "cell_type": "markdown",
      "source": [
        "# 3. Tuplas"
      ],
      "metadata": {
        "id": "qXYwCDghBHAx"
      }
    },
    {
      "cell_type": "code",
      "source": [
        "dimensions = (200, 50)"
      ],
      "metadata": {
        "id": "umIk-vrP_sXx"
      },
      "execution_count": null,
      "outputs": []
    },
    {
      "cell_type": "code",
      "source": [
        "print(dimensions[0])"
      ],
      "metadata": {
        "id": "adBx3YWqB1xF"
      },
      "execution_count": null,
      "outputs": []
    },
    {
      "cell_type": "code",
      "source": [
        "print(dimensions[1])"
      ],
      "metadata": {
        "id": "EXHXNGfoB54Y"
      },
      "execution_count": null,
      "outputs": []
    },
    {
      "cell_type": "code",
      "source": [
        "dimensions[0] = 250"
      ],
      "metadata": {
        "id": "CiUL-aB3CJMx"
      },
      "execution_count": null,
      "outputs": []
    },
    {
      "cell_type": "markdown",
      "source": [
        "### Loops a traves de una Tupla"
      ],
      "metadata": {
        "id": "5SkhgqGSCX7Z"
      }
    },
    {
      "cell_type": "code",
      "source": [
        "dimensions = (200, 50)\n",
        "for dimension in dimensions:\n",
        "    print(dimension)"
      ],
      "metadata": {
        "id": "N9sSXtO3CoPp"
      },
      "execution_count": null,
      "outputs": []
    },
    {
      "cell_type": "markdown",
      "source": [
        "### Modificando una tupla"
      ],
      "metadata": {
        "id": "y-nYJPBwC5jg"
      }
    },
    {
      "cell_type": "code",
      "source": [
        "print(\"Dimensiones originales:\")\n",
        "for dimension in dimensions:\n",
        "    print(dimension)"
      ],
      "metadata": {
        "colab": {
          "base_uri": "https://localhost:8080/"
        },
        "id": "ze8gyArPCz0Z",
        "outputId": "5c1fc634-7c73-420a-ddf4-67cc58c33ba9"
      },
      "execution_count": null,
      "outputs": [
        {
          "output_type": "stream",
          "name": "stdout",
          "text": [
            "Original dimensions:\n",
            "200\n",
            "50\n"
          ]
        }
      ]
    },
    {
      "cell_type": "code",
      "source": [
        "dimensions = (400, 100)\n",
        "print(\"\\nModified dimensions:\")\n",
        "for dimension in dimensions:\n",
        "  print(dimension)"
      ],
      "metadata": {
        "id": "9Ej9n7-9C_Jc"
      },
      "execution_count": null,
      "outputs": []
    },
    {
      "cell_type": "markdown",
      "source": [
        "---\n",
        "\n",
        "<b> Ejercicio 1</b>\n",
        "\n",
        "Un restaurante estilo buffet ofrece solo cinco alimentos básicos. Piense en cinco alimentos simples y guárdelos en una tupla.\n",
        "\n",
        "* Use un bucle for para imprimir cada comida que ofrece el restaurante.\n",
        "Intente modificar uno de los elementos y asegúrese de que Python rechace el cambio.\n",
        "* El restaurante cambia su menú, reemplazando dos de los artículos con comidas diferentes. Agregue una línea que reescriba la tupla y luego use un ciclo for para imprimir cada uno de los elementos en el menú revisado.\n",
        "\n",
        "---"
      ],
      "metadata": {
        "id": "WHk9FL9lDtBY"
      }
    },
    {
      "cell_type": "code",
      "source": [
        "dfined_tupla = ('alimento1', 'alimento2', 'alimento3', 'alimento4','alimento5')\n",
        "for value in dfined_tupla:\n",
        "  print(value)\n",
        "dfined_tupla[0]='alimento_modificado'\n"
      ],
      "metadata": {
        "id": "rLCd6f6mOwyz",
        "outputId": "60404fba-61fc-404e-95a8-9a6953715fd9",
        "colab": {
          "base_uri": "https://localhost:8080/",
          "height": 288
        }
      },
      "execution_count": null,
      "outputs": [
        {
          "output_type": "stream",
          "name": "stdout",
          "text": [
            "alimento1\n",
            "alimento2\n",
            "alimento3\n",
            "alimento4\n",
            "alimento5\n"
          ]
        },
        {
          "output_type": "error",
          "ename": "TypeError",
          "evalue": "ignored",
          "traceback": [
            "\u001b[0;31m---------------------------------------------------------------------------\u001b[0m",
            "\u001b[0;31mTypeError\u001b[0m                                 Traceback (most recent call last)",
            "\u001b[0;32m<ipython-input-30-3654e6624ac8>\u001b[0m in \u001b[0;36m<module>\u001b[0;34m\u001b[0m\n\u001b[1;32m      2\u001b[0m \u001b[0;32mfor\u001b[0m \u001b[0mvalue\u001b[0m \u001b[0;32min\u001b[0m \u001b[0mdfined_tupla\u001b[0m\u001b[0;34m:\u001b[0m\u001b[0;34m\u001b[0m\u001b[0;34m\u001b[0m\u001b[0m\n\u001b[1;32m      3\u001b[0m   \u001b[0mprint\u001b[0m\u001b[0;34m(\u001b[0m\u001b[0mvalue\u001b[0m\u001b[0;34m)\u001b[0m\u001b[0;34m\u001b[0m\u001b[0;34m\u001b[0m\u001b[0m\n\u001b[0;32m----> 4\u001b[0;31m \u001b[0mdfined_tupla\u001b[0m\u001b[0;34m[\u001b[0m\u001b[0;36m0\u001b[0m\u001b[0;34m]\u001b[0m\u001b[0;34m=\u001b[0m\u001b[0;34m'alimento_modificado'\u001b[0m\u001b[0;34m\u001b[0m\u001b[0;34m\u001b[0m\u001b[0m\n\u001b[0m",
            "\u001b[0;31mTypeError\u001b[0m: 'tuple' object does not support item assignment"
          ]
        }
      ]
    },
    {
      "cell_type": "code",
      "source": [
        "dfined_tupla2 = ('alimento_modificado1', 'alimento_modificado2', 'alimento3', 'alimento4', 'alimeto5')\n",
        "for value in dfined_tupla2:\n",
        "  print(value)"
      ],
      "metadata": {
        "id": "fSyJ6c5YR4FU",
        "outputId": "e922d3e2-9746-435e-a457-3572cc0ef36a",
        "colab": {
          "base_uri": "https://localhost:8080/"
        }
      },
      "execution_count": null,
      "outputs": [
        {
          "output_type": "stream",
          "name": "stdout",
          "text": [
            "alimento_modificado1\n",
            "alimento_modificado2\n",
            "alimento3\n",
            "alimento4\n",
            "alimeto5\n"
          ]
        }
      ]
    },
    {
      "cell_type": "markdown",
      "source": [
        "# 4. Diccionarios"
      ],
      "metadata": {
        "id": "BZTa7B8LFrIG"
      }
    },
    {
      "cell_type": "markdown",
      "source": [
        "### Un diccionario simple"
      ],
      "metadata": {
        "id": "CK7WpabLGUxg"
      }
    },
    {
      "cell_type": "code",
      "source": [
        "alien_0 = {'color': 'green', 'points': 5}\n",
        "\n",
        "print(alien_0['color'])\n",
        "print(alien_0['points'])"
      ],
      "metadata": {
        "id": "1LBNlCbNH7If",
        "outputId": "fd851eac-8171-4e08-8c93-35c9615b7c2d",
        "colab": {
          "base_uri": "https://localhost:8080/"
        }
      },
      "execution_count": null,
      "outputs": [
        {
          "output_type": "stream",
          "name": "stdout",
          "text": [
            "green\n",
            "5\n"
          ]
        }
      ]
    },
    {
      "cell_type": "markdown",
      "source": [
        "### Trabajando con diccionarios"
      ],
      "metadata": {
        "id": "9leFQDy1H-90"
      }
    },
    {
      "cell_type": "code",
      "source": [
        "alien_0 = {'color': 'green'}\n",
        "\n",
        "print(alien_0['color'])"
      ],
      "metadata": {
        "id": "BN2xEdrkK2bk"
      },
      "execution_count": null,
      "outputs": []
    },
    {
      "cell_type": "code",
      "source": [
        "alien_0 = {'color': 'green', 'points': 5}\n",
        "\n",
        "new_points = alien_0['points']\n",
        "print(f\"Acabas de ganar {new_points} puntos!\")"
      ],
      "metadata": {
        "id": "R4beHSA3LISl"
      },
      "execution_count": null,
      "outputs": []
    },
    {
      "cell_type": "markdown",
      "source": [
        "### Agregando nuevos pares Key-Value"
      ],
      "metadata": {
        "id": "5hqxo8XZLn1q"
      }
    },
    {
      "cell_type": "code",
      "source": [
        "alien_0 = {'color': 'green', 'points': 5}\n",
        "print(alien_0)\n",
        "\n",
        "alien_0['x_position'] = 0\n",
        "alien_0['y_position'] = 25\n",
        "print(alien_0)"
      ],
      "metadata": {
        "id": "oznLSM29L4fq"
      },
      "execution_count": null,
      "outputs": []
    },
    {
      "cell_type": "markdown",
      "source": [
        "### Comenzando con un diccionario vacio"
      ],
      "metadata": {
        "id": "dVF5nxchMdg-"
      }
    },
    {
      "cell_type": "code",
      "source": [
        "alien_0 = {}\n",
        "\n",
        "alien_0['color'] = 'green'\n",
        "alien_0['points'] = 5\n",
        "\n",
        "print(alien_0)"
      ],
      "metadata": {
        "id": "9tlTgbesMhSZ"
      },
      "execution_count": null,
      "outputs": []
    },
    {
      "cell_type": "markdown",
      "source": [
        "### Modificando valores de un diccionario"
      ],
      "metadata": {
        "id": "fsYC2R6GMnnF"
      }
    },
    {
      "cell_type": "code",
      "source": [
        "alien_0 = {'color': 'verde'}\n",
        "print(f\"El alien es {alien_0['color']}.\")\n",
        "\n",
        "alien_0['color'] = 'amarillo'\n",
        "print(f\"El alien ahora es {alien_0['color']}.\")\n"
      ],
      "metadata": {
        "id": "TlHsOz42Mszc"
      },
      "execution_count": null,
      "outputs": []
    },
    {
      "cell_type": "code",
      "source": [
        "alien_0 = {'x_position': 0, 'y_position': 25, 'speed': 'medium'}\n",
        "print(f\"Original position: {alien_0['x_position']}\")\n",
        "\n",
        "if alien_0['speed'] == 'slow':\n",
        "  x_increment = 1\n",
        "elif alien_0['speed'] == 'medium':\n",
        "  x_increment = 2\n",
        "else:\n",
        "  x_increment = 3\n",
        "\n",
        "alien_0['x_position'] = alien_0['x_position'] + x_increment\n",
        "print(f\"New position: {alien_0['x_position']}\")\n"
      ],
      "metadata": {
        "id": "7t-om1JhM951"
      },
      "execution_count": null,
      "outputs": []
    },
    {
      "cell_type": "markdown",
      "source": [
        "### Removiendo pares Key-Value"
      ],
      "metadata": {
        "id": "q2d6kw3XNkRQ"
      }
    },
    {
      "cell_type": "code",
      "source": [
        "alien_0 = {'color': 'green', 'points': 5}\n",
        "print(alien_0)\n",
        "\n",
        "del alien_0['points']\n",
        "print(alien_0)\n"
      ],
      "metadata": {
        "id": "ZQwVkViANor0",
        "outputId": "63555de6-1b38-4407-8d8d-f4718c6d6364",
        "colab": {
          "base_uri": "https://localhost:8080/"
        }
      },
      "execution_count": null,
      "outputs": [
        {
          "output_type": "stream",
          "name": "stdout",
          "text": [
            "{'color': 'green', 'points': 5}\n",
            "{'color': 'green'}\n"
          ]
        }
      ]
    },
    {
      "cell_type": "markdown",
      "source": [
        "### Un diccionario de objetos similares"
      ],
      "metadata": {
        "id": "K3ASKj6tOnas"
      }
    },
    {
      "cell_type": "code",
      "source": [
        "favorite_languages = {\n",
        "    'jen': 'python',\n",
        "    'sarah': 'c++',\n",
        "    'edward': 'ruby',\n",
        "    'phil': 'python',\n",
        "    }"
      ],
      "metadata": {
        "id": "9x9FJQp0Oqrj"
      },
      "execution_count": null,
      "outputs": []
    },
    {
      "cell_type": "code",
      "source": [
        "language = favorite_languages['sarah']\n",
        "print(f\"El lenguaje favorito de Sarah es {language}.\")"
      ],
      "metadata": {
        "id": "Vl4peHpEOvAo"
      },
      "execution_count": null,
      "outputs": []
    },
    {
      "cell_type": "code",
      "source": [
        "favorite_languages['sarah']"
      ],
      "metadata": {
        "id": "xKCA_j2UO5eC"
      },
      "execution_count": null,
      "outputs": []
    },
    {
      "cell_type": "markdown",
      "source": [
        "### Usando get() para acceder a los valores"
      ],
      "metadata": {
        "id": "hHVI1fmuO_7v"
      }
    },
    {
      "cell_type": "code",
      "source": [
        "alien_0 = {'color': 'green', 'speed': 'slow'}\n",
        "print(alien_0['points'])"
      ],
      "metadata": {
        "id": "CEStOn5DPOo_",
        "outputId": "13db0b7c-393f-4a9c-9f2b-9d805437d432",
        "colab": {
          "base_uri": "https://localhost:8080/",
          "height": 184
        }
      },
      "execution_count": null,
      "outputs": [
        {
          "output_type": "error",
          "ename": "KeyError",
          "evalue": "ignored",
          "traceback": [
            "\u001b[0;31m---------------------------------------------------------------------------\u001b[0m",
            "\u001b[0;31mKeyError\u001b[0m                                  Traceback (most recent call last)",
            "\u001b[0;32m<ipython-input-38-3914d637e9f3>\u001b[0m in \u001b[0;36m<module>\u001b[0;34m\u001b[0m\n\u001b[1;32m      1\u001b[0m \u001b[0malien_0\u001b[0m \u001b[0;34m=\u001b[0m \u001b[0;34m{\u001b[0m\u001b[0;34m'color'\u001b[0m\u001b[0;34m:\u001b[0m \u001b[0;34m'green'\u001b[0m\u001b[0;34m,\u001b[0m \u001b[0;34m'speed'\u001b[0m\u001b[0;34m:\u001b[0m \u001b[0;34m'slow'\u001b[0m\u001b[0;34m}\u001b[0m\u001b[0;34m\u001b[0m\u001b[0;34m\u001b[0m\u001b[0m\n\u001b[0;32m----> 2\u001b[0;31m \u001b[0mprint\u001b[0m\u001b[0;34m(\u001b[0m\u001b[0malien_0\u001b[0m\u001b[0;34m[\u001b[0m\u001b[0;34m'points'\u001b[0m\u001b[0;34m]\u001b[0m\u001b[0;34m)\u001b[0m\u001b[0;34m\u001b[0m\u001b[0;34m\u001b[0m\u001b[0m\n\u001b[0m",
            "\u001b[0;31mKeyError\u001b[0m: 'points'"
          ]
        }
      ]
    },
    {
      "cell_type": "code",
      "source": [
        "alien_0.get('color')"
      ],
      "metadata": {
        "id": "1OOz1_tNPr6b"
      },
      "execution_count": null,
      "outputs": []
    },
    {
      "cell_type": "code",
      "source": [
        "point_value = alien_0.get('points', 'No point value assigned.')\n",
        "print(point_value)"
      ],
      "metadata": {
        "id": "jSYYU2MxPVmd"
      },
      "execution_count": null,
      "outputs": []
    },
    {
      "cell_type": "code",
      "source": [
        "alien_0.get('points', 'No point value assigned.')"
      ],
      "metadata": {
        "id": "msUlArzMPqQK"
      },
      "execution_count": null,
      "outputs": []
    },
    {
      "cell_type": "markdown",
      "source": [
        "---\n",
        "\n",
        "<b> Ejercicio 1</b>\n",
        "\n",
        "Usa un diccionario para almacenar información sobre una persona que conoces. Almacene su nombre, apellido, edad y la ciudad en la que vive. Debe tener claves como nombre, apellido, edad y ciudad. Imprima cada parte de información almacenada en su diccionario.\n",
        "\n"
      ],
      "metadata": {
        "id": "ctXa-OLlQaXn"
      }
    },
    {
      "cell_type": "code",
      "source": [
        "alien = {\n",
        "    'nombre': 'andrea',\n",
        "    'apellido': 'aparicio',\n",
        "    'edad': 25,\n",
        "    'ciudad': 'Lima',\n",
        "    }\n",
        "\n",
        "print(f\"Nombre: {alien['nombre']}.\")\n",
        "print(f\"Apellido: {alien['apellido']}.\")\n",
        "print(f\"Edad: {alien['edad']}.\")\n",
        "print(f\"Ciudad: {alien['ciudad']}.\")"
      ],
      "metadata": {
        "id": "adnXSbEMPWuE",
        "outputId": "75e65e44-3a1b-48ea-bacf-adc95456554d",
        "colab": {
          "base_uri": "https://localhost:8080/"
        }
      },
      "execution_count": null,
      "outputs": [
        {
          "output_type": "stream",
          "name": "stdout",
          "text": [
            "Nombre: andrea.\n",
            "Apellido: aparicio.\n",
            "Edad: 25.\n",
            "Ciudad: Lima.\n"
          ]
        }
      ]
    },
    {
      "cell_type": "markdown",
      "source": [
        "---\n",
        "\n",
        "<b> Ejercicio 2</b>\n",
        "\n",
        "Use un diccionario para almacenar los números favoritos de las personas. Piensa en cinco nombres y utilízalos como llaves en tu diccionario. Piense en un número favorito para cada persona y guárdelo como un valor en su diccionario. Escriba el nombre de cada persona y su número favorito. \n",
        "\n"
      ],
      "metadata": {
        "id": "7_krS5iiQ7KW"
      }
    },
    {
      "cell_type": "code",
      "source": [
        "numbers = {\n",
        "    'nombre1': 1,\n",
        "    'nombre2': 2,\n",
        "    'nombre3': 3,\n",
        "    'nombre4': 4,\n",
        "    'nombre5': 5,\n",
        "    }\n",
        "for i in numbers: \n",
        "  print(\"El numero favorito de \"+i+\" es :\") \n",
        "  print(numbers[i])"
      ],
      "metadata": {
        "id": "2wD38nhsPcLp",
        "outputId": "70233245-45dc-44dd-e12e-c00251fe6c22",
        "colab": {
          "base_uri": "https://localhost:8080/"
        }
      },
      "execution_count": null,
      "outputs": [
        {
          "output_type": "stream",
          "name": "stdout",
          "text": [
            "El numero favorito de nombre1 es :\n",
            "1\n",
            "El numero favorito de nombre2 es :\n",
            "2\n",
            "El numero favorito de nombre3 es :\n",
            "3\n",
            "El numero favorito de nombre4 es :\n",
            "4\n",
            "El numero favorito de nombre5 es :\n",
            "5\n"
          ]
        }
      ]
    },
    {
      "cell_type": "markdown",
      "source": [
        "---\n",
        "\n",
        "<b> Ejercicio 3</b>\n",
        "\n",
        "Piense en cinco palabras de programación que haya aprendido. Utilice estas palabras como llaves en su glosario y almacene sus significados como valores.\n",
        "\n",
        "Imprima cada palabra y su significado como una salida con un formato ordenado. Puede imprimir la palabra seguida de dos puntos y luego su significado, o imprimir la palabra en una línea y luego imprimir su significado con sangría en una segunda línea. Utilice el carácter de nueva línea (\\n) para insertar una línea en blanco entre cada par de palabra y significado en su salida.\n",
        "\n",
        "---"
      ],
      "metadata": {
        "id": "PmMzWA-nVOOi"
      }
    },
    {
      "cell_type": "code",
      "source": [
        "palabras = {\n",
        "    'init': 'iniciazion',\n",
        "    'print': 'imprimir',\n",
        "    'input': 'entrada',\n",
        "    'return': 'valor de retorno',\n",
        "    'int': 'entero',\n",
        "    }\n",
        "for i in palabras: \n",
        "  print(\"\\nEl significado de \"+i+\" es :\") \n",
        "  print( palabras[i])"
      ],
      "metadata": {
        "id": "y7unE-QOPxqN",
        "outputId": "f8bc8b59-428b-4515-a473-eb2c8381a250",
        "colab": {
          "base_uri": "https://localhost:8080/"
        }
      },
      "execution_count": null,
      "outputs": [
        {
          "output_type": "stream",
          "name": "stdout",
          "text": [
            "\n",
            "El significado de init es :\n",
            "iniciazion\n",
            "\n",
            "El significado de print es :\n",
            "imprimir\n",
            "\n",
            "El significado de input es :\n",
            "entrada\n",
            "\n",
            "El significado de return es :\n",
            "valor de retorno\n",
            "\n",
            "El significado de int es :\n",
            "entero\n"
          ]
        }
      ]
    },
    {
      "cell_type": "markdown",
      "source": [
        "### Loops con diccionarios"
      ],
      "metadata": {
        "id": "xHZwF4EJVuP7"
      }
    },
    {
      "cell_type": "code",
      "source": [
        "user_0 = {\n",
        "    'username': 'efermi',\n",
        "    'first': 'enrico',\n",
        "    'last': 'fermi',\n",
        "    }"
      ],
      "metadata": {
        "id": "Nhs0f6CEQ6np"
      },
      "execution_count": 1,
      "outputs": []
    },
    {
      "cell_type": "code",
      "source": [
        "for key, value in user_0.items():\n",
        "    print(f\"\\nKey: {key}\")\n",
        "    print(f\"Value: {value}\")"
      ],
      "metadata": {
        "id": "Q1m7T12eV3XJ",
        "outputId": "37c812fe-3ea8-42d6-c7eb-c90e472cb905",
        "colab": {
          "base_uri": "https://localhost:8080/"
        }
      },
      "execution_count": 2,
      "outputs": [
        {
          "output_type": "stream",
          "name": "stdout",
          "text": [
            "\n",
            "Key: username\n",
            "Value: efermi\n",
            "\n",
            "Key: first\n",
            "Value: enrico\n",
            "\n",
            "Key: last\n",
            "Value: fermi\n"
          ]
        }
      ]
    },
    {
      "cell_type": "code",
      "source": [
        "for name, language in favorite_languages.items():\n",
        "  print(f\"El lenguaje favorito de {name} es {language}.\")"
      ],
      "metadata": {
        "id": "AanKmbfWWFCn"
      },
      "execution_count": null,
      "outputs": []
    },
    {
      "cell_type": "code",
      "source": [
        "for name in sorted(favorite_languages.keys()):\n",
        "    print(f\"{name.title()}, gracias por tomar la encuesta.)"
      ],
      "metadata": {
        "id": "C2PjJC4rjbgB"
      },
      "execution_count": null,
      "outputs": []
    },
    {
      "cell_type": "markdown",
      "source": [
        "---\n",
        "\n",
        "<b> Ejercicio 1</b>\n",
        "\n",
        "Haga un diccionario que contenga tres ríos principales y el país por el que pasa cada río. Un par clave-valor podría ser 'nilo': 'egipto'.\n",
        "\n",
        "* Use un bucle para imprimir una oración sobre cada río, como El Nilo atraviesa Egipto.\n",
        "* Utilice un bucle para imprimir el nombre de cada río incluido en el diccionario.\n",
        "* Use un bucle para imprimir el nombre de cada país incluido en el diccionario.\n"
      ],
      "metadata": {
        "id": "Ov6u5MxIj2WA"
      }
    },
    {
      "cell_type": "code",
      "source": [
        "rios = {\n",
        "    'rio1': 'pais1',\n",
        "    'rio2': 'pais2',\n",
        "    'rio3': 'pais3',\n",
        "    }\n",
        "for rio, pais in rios.items():\n",
        "  print(f\" El {rio} atraviesa {pais}.\")\n"
      ],
      "metadata": {
        "id": "g45Z2iUsP-x9",
        "outputId": "01e49708-fb6b-4a77-a08c-e9204ce4ac84",
        "colab": {
          "base_uri": "https://localhost:8080/"
        }
      },
      "execution_count": null,
      "outputs": [
        {
          "output_type": "stream",
          "name": "stdout",
          "text": [
            " El rio1 atraviesa pais1.\n",
            " El rio2 atraviesa pais2.\n",
            " El rio3 atraviesa pais3.\n"
          ]
        }
      ]
    },
    {
      "cell_type": "code",
      "source": [
        "for clave, valor in rios.items(): \n",
        "  print(clave)"
      ],
      "metadata": {
        "id": "8N6h5gsEWnBz",
        "outputId": "eb77bdcb-bbe9-4ea2-8f74-aa6637659f9a",
        "colab": {
          "base_uri": "https://localhost:8080/"
        }
      },
      "execution_count": null,
      "outputs": [
        {
          "output_type": "stream",
          "name": "stdout",
          "text": [
            "rio1\n",
            "rio2\n",
            "rio3\n"
          ]
        }
      ]
    },
    {
      "cell_type": "code",
      "source": [
        "for i in rios: \n",
        "  print(rios[i])"
      ],
      "metadata": {
        "id": "cm4SK9j0WYNY",
        "outputId": "518eca1f-91ce-4814-ab51-a64c18e44305",
        "colab": {
          "base_uri": "https://localhost:8080/"
        }
      },
      "execution_count": null,
      "outputs": [
        {
          "output_type": "stream",
          "name": "stdout",
          "text": [
            "pais1\n",
            "pais2\n",
            "pais3\n"
          ]
        }
      ]
    },
    {
      "cell_type": "markdown",
      "source": [
        "---\n",
        "\n",
        "<b> Ejercicio 2</b>\n",
        "\n",
        "Haz una lista de las personas que deberían participar en la encuesta de idiomas favoritos. Incluye algunos nombres que ya estén en el diccionario y otros que no.\n",
        "Recorra la lista de personas que deberían realizar la encuesta. Si ya han realizado la encuesta, imprima un mensaje agradeciéndoles por responder. Si aún no han realizado la encuesta, imprima un mensaje invitándoles a realizar la encuesta.\n",
        "\n",
        "---"
      ],
      "metadata": {
        "id": "aSr26WfmkSSv"
      }
    },
    {
      "cell_type": "code",
      "source": [
        "#personas que deberían llenar la encuesta\n",
        "lista = ['maria', 'pedro', 'ana', 'miller', 'alfredo', 'susana']\n",
        "lista2=[]\n",
        "#personas que llenaron la encuesta\n",
        "dic = {\n",
        "    'maria': 'ingles',\n",
        "    'ana': 'frances',\n",
        "    'miller': 'aleman',\n",
        "    }\n",
        "\n",
        "for clave, valor in dic.items():\n",
        "    lista2.append(clave)\n",
        "for nombre in lista:\n",
        "  if nombre in lista2:\n",
        "    print(f\"Gracias por llenar la encuesta {nombre.title()}.\")\n",
        "  else:\n",
        "    print(f\"{nombre.title()}, le invitamos a llenar la encuesta.\")   "
      ],
      "metadata": {
        "id": "2pqZc7ZHYHxQ",
        "outputId": "26cbf6f6-68df-4375-9f60-da6e7b2633c3",
        "colab": {
          "base_uri": "https://localhost:8080/"
        }
      },
      "execution_count": null,
      "outputs": [
        {
          "output_type": "stream",
          "name": "stdout",
          "text": [
            "Gracias por llenar la encuesta Maria.\n",
            "Pedro, le invitamos a llenar la encuesta.\n",
            "Gracias por llenar la encuesta Ana.\n",
            "Gracias por llenar la encuesta Miller.\n",
            "Alfredo, le invitamos a llenar la encuesta.\n",
            "Susana, le invitamos a llenar la encuesta.\n"
          ]
        }
      ]
    },
    {
      "cell_type": "markdown",
      "source": [
        "### Lista de diccionarios"
      ],
      "metadata": {
        "id": "9v43SleGkhAh"
      }
    },
    {
      "cell_type": "code",
      "source": [
        "alien_0 = {'color': 'green', 'points': 5}\n",
        "alien_1 = {'color': 'yellow', 'points': 10}\n",
        "alien_2 = {'color': 'red', 'points': 15}\n",
        "\n",
        "aliens = [alien_0, alien_1, alien_2]\n",
        "\n",
        "for alien in aliens:\n",
        "  print(alien)"
      ],
      "metadata": {
        "id": "scvK9Q9bkRy0"
      },
      "execution_count": null,
      "outputs": []
    },
    {
      "cell_type": "code",
      "source": [
        "aliens = []\n",
        "\n",
        "# Make 30 green aliens.\n",
        "for alien_number in range(30):\n",
        "    new_alien = {'color': 'green', 'points': 5, 'speed': 'slow'}\n",
        "    aliens.append(new_alien)\n",
        "\n",
        "# Show the first 5 aliens.\n",
        "for alien in aliens[:5]:\n",
        "    print(alien)\n",
        "print(\"...\")\n",
        "\n",
        "# Show how many aliens have been created.\n",
        "print(f\"Total number of aliens: {len(aliens)}\")\n"
      ],
      "metadata": {
        "id": "fVooKiRtkufd"
      },
      "execution_count": null,
      "outputs": []
    },
    {
      "cell_type": "code",
      "source": [
        "aliens = []\n",
        "\n",
        "# Make 30 green aliens.\n",
        "for alien_number in range(30):\n",
        "    new_alien = {'color': 'green', 'points': 5, 'speed': 'slow'}\n",
        "    aliens.append(new_alien)\n",
        "\n",
        "for alien in aliens[:3]:\n",
        "    if alien['color'] == 'green':\n",
        "        alien['color'] = 'yellow'\n",
        "        alien['speed'] = 'medium'\n",
        "        alien['points'] = 10\n",
        "\n",
        "# Show the first 5 aliens.\n",
        "for alien in aliens[:5]:\n",
        "    print(alien)\n",
        "print(\"...\")\n",
        "\n",
        "# Show how many aliens have been created.\n",
        "print(f\"Total number of aliens: {len(aliens)}\")"
      ],
      "metadata": {
        "id": "pAwmoRu5k6CR"
      },
      "execution_count": null,
      "outputs": []
    },
    {
      "cell_type": "code",
      "source": [
        "aliens = []\n",
        "\n",
        "# Make 30 green aliens.\n",
        "for alien_number in range(30):\n",
        "  new_alien = {'color': 'green', 'points': 5, 'speed': 'slow'}\n",
        "  aliens.append(new_alien)\n",
        "\n",
        "for alien in aliens[:3]:\n",
        "  if alien['color'] == 'green':\n",
        "    alien['color'] = 'yellow'\n",
        "    alien['speed'] = 'medium'\n",
        "    alien['points'] = 10\n",
        "        \n",
        "  elif alien['color'] == 'yellow':\n",
        "    alien['color'] = 'red'\n",
        "    alien['speed'] = 'fast'\n",
        "    alien['points'] = 15\n",
        "\n",
        "# Show the first 5 aliens.\n",
        "for alien in aliens[:5]:\n",
        "    print(alien)\n",
        "print(\"...\")\n",
        "\n",
        "# Show how many aliens have been created.\n",
        "print(f\"Total number of aliens: {len(aliens)}\")"
      ],
      "metadata": {
        "id": "g8Q_Btd6lFDn",
        "outputId": "b0b1924e-f03d-4901-cab0-462e663300d2",
        "colab": {
          "base_uri": "https://localhost:8080/"
        }
      },
      "execution_count": null,
      "outputs": [
        {
          "output_type": "stream",
          "name": "stdout",
          "text": [
            "{'color': 'yellow', 'points': 10, 'speed': 'medium'}\n",
            "{'color': 'yellow', 'points': 10, 'speed': 'medium'}\n",
            "{'color': 'yellow', 'points': 10, 'speed': 'medium'}\n",
            "{'color': 'green', 'points': 5, 'speed': 'slow'}\n",
            "{'color': 'green', 'points': 5, 'speed': 'slow'}\n",
            "...\n",
            "Total number of aliens: 30\n"
          ]
        }
      ]
    },
    {
      "cell_type": "markdown",
      "source": [
        "### Una lista en un diccionario"
      ],
      "metadata": {
        "id": "M3RgdLwtluyF"
      }
    },
    {
      "cell_type": "code",
      "source": [
        "# Store information about a pizza being ordered.\n",
        "pizza = {\n",
        "         'crust': 'thick',\n",
        "         'toppings': ['mushrooms', 'extra cheese'],\n",
        "        }\n",
        "\n",
        "# Summarize the order.\n",
        "print(f\"You ordered a {pizza['crust']}-crust pizza \"\n",
        "  \"with the following toppings:\")\n",
        "\n",
        "for topping in pizza['toppings']:\n",
        "  print(f\"\\t{topping}\")"
      ],
      "metadata": {
        "id": "1awTpHiplzaH"
      },
      "execution_count": null,
      "outputs": []
    },
    {
      "cell_type": "code",
      "source": [
        "favorite_languages = {\n",
        "       'jen': ['python', 'ruby'],\n",
        "       'sarah': ['c'],\n",
        "       'edward': ['ruby', 'go'],\n",
        "       'phil': ['python', 'haskell'],\n",
        "       }\n",
        "\n",
        "for name, languages in favorite_languages.items():\n",
        "  print(f\"\\n{name}'s favorite languages are:\")\n",
        "\n",
        "  for language in languages:\n",
        "    print(f\"\\t{language}\")\n"
      ],
      "metadata": {
        "id": "tXuoOkfgmLVF",
        "outputId": "5c0b1edf-3cc4-426b-a138-8e5c4ba6e963",
        "colab": {
          "base_uri": "https://localhost:8080/"
        }
      },
      "execution_count": 3,
      "outputs": [
        {
          "output_type": "stream",
          "name": "stdout",
          "text": [
            "\n",
            "jen's favorite languages are:\n",
            "\tpython\n",
            "\truby\n",
            "\n",
            "sarah's favorite languages are:\n",
            "\tc\n",
            "\n",
            "edward's favorite languages are:\n",
            "\truby\n",
            "\tgo\n",
            "\n",
            "phil's favorite languages are:\n",
            "\tpython\n",
            "\thaskell\n"
          ]
        }
      ]
    },
    {
      "cell_type": "markdown",
      "source": [
        "---\n",
        "\n",
        "<b> Ejercicio 1</b>\n",
        "\n",
        "Cree tres nuevos diccionarios que representen a diferentes personas y almacene los tres diccionarios en una lista llamada personas. Recorra su lista de personas. Mientras recorre la lista, imprima todo lo que sabe sobre cada persona.\n"
      ],
      "metadata": {
        "id": "3JJTjbfhmwks"
      }
    },
    {
      "cell_type": "code",
      "source": [
        "persona1 = {\n",
        "       'nombre': 'jenny',\n",
        "     'edad': 25,\n",
        "       }\n",
        "persona2 = {\n",
        "    'nombre' : 'maria',\n",
        "    'edad': 24,\n",
        "}\n",
        "persona3 = {\n",
        "    'nombre' : 'mercedes',\n",
        "    'edad': 23,\n",
        "}\n",
        "personas = [persona1, persona2, persona3]\n",
        "for persona in personas: \n",
        "  print(f\"Hola me llamo {persona['nombre'].title()} y tengo {persona['edad']} años.\")"
      ],
      "metadata": {
        "id": "jFGpvhWuQNbO",
        "outputId": "3528dda0-5d78-44dc-c2d0-ce688c147190",
        "colab": {
          "base_uri": "https://localhost:8080/"
        }
      },
      "execution_count": null,
      "outputs": [
        {
          "output_type": "stream",
          "name": "stdout",
          "text": [
            "Hola me llamo Jenny y tengo 25 años.\n",
            "Hola me llamo Maria y tengo 24 años.\n",
            "Hola me llamo Mercedes y tengo 23 años.\n"
          ]
        }
      ]
    },
    {
      "cell_type": "markdown",
      "source": [
        "---\n",
        "\n",
        "<b> Ejercicio 2</b>\n",
        "\n",
        "Haga varios diccionarios, donde cada diccionario represente una mascota diferente. En cada diccionario, incluya el tipo de animal y el nombre del dueño. Guarde estos diccionarios en una lista llamada mascotas. A continuación, recorra su lista y, mientras lo hace, imprima todo lo que sepa sobre cada mascota."
      ],
      "metadata": {
        "id": "oU2XiQHAnAtB"
      }
    },
    {
      "cell_type": "code",
      "source": [
        "mascota1 = {\n",
        "       'nombre': 'firulais',\n",
        "     'dueño': 'Maria',\n",
        "       }\n",
        "mascota2 = {\n",
        "    'nombre' : 'pelusa',\n",
        "    'dueño': 'Franss',\n",
        "}\n",
        "mascota3 = {\n",
        "    'nombre' : 'mandarino',\n",
        "    'dueño': 'Miller',\n",
        "}\n",
        "mascotas = [mascota1, mascota2, mascota3]\n",
        "for mascota in mascotas: \n",
        "  print(f\" El dueño de {mascota['nombre'].title()} es {mascota['dueño']}.\")"
      ],
      "metadata": {
        "id": "8T_eCZ4vgs8n",
        "outputId": "6f593d20-86ba-414c-9410-6f98e006ea75",
        "colab": {
          "base_uri": "https://localhost:8080/"
        }
      },
      "execution_count": null,
      "outputs": [
        {
          "output_type": "stream",
          "name": "stdout",
          "text": [
            " El dueño de Firulais es Maria.\n",
            " El dueño de Pelusa es Franss.\n",
            " El dueño de Mandarino es Miller.\n"
          ]
        }
      ]
    },
    {
      "cell_type": "markdown",
      "source": [
        "---\n",
        "\n",
        "<b> Ejercicio 3</b>\n",
        "\n",
        "Haga un diccionario llamado lugares_favoritos. Piense en tres nombres para usar como llaves en el diccionario y almacene de uno a tres lugares favoritos para cada persona. Recorre el diccionario e imprime el nombre de cada persona y sus lugares favoritos."
      ],
      "metadata": {
        "id": "YH2BoPpVnMLu"
      }
    },
    {
      "cell_type": "code",
      "source": [
        "lugares_favoritos = {\n",
        "    'Miller':  'playa' ,\n",
        "    'Franss':  'parque',\n",
        "    'Daiver':  'cine'\n",
        "}\n",
        "\n",
        "for llave, valor in lugares_favoritos.items(): \n",
        "  print(f\" El lugar favorito de {llave.title()} es {valor}.\")"
      ],
      "metadata": {
        "id": "A23dEStXh0Uc",
        "outputId": "40865cfe-e59b-4f5d-de4e-7249d3d8234d",
        "colab": {
          "base_uri": "https://localhost:8080/"
        }
      },
      "execution_count": null,
      "outputs": [
        {
          "output_type": "stream",
          "name": "stdout",
          "text": [
            " El lugar favorito de Miller es playa.\n",
            " El lugar favorito de Franss es parque.\n",
            " El lugar favorito de Daiver es cine.\n"
          ]
        }
      ]
    },
    {
      "cell_type": "markdown",
      "source": [
        "---\n",
        "\n",
        "<b> Ejercicio 4</b>\n",
        "\n",
        "Haz un diccionario llamado ciudades. Usa los nombres de tres ciudades como llaves en tu diccionario. Cree un diccionario de información sobre cada ciudad e incluya el país en el que se encuentra la ciudad, su población aproximada y un dato sobre esa ciudad. Las claves para el diccionario de cada ciudad deben ser algo como país, población y hecho. Imprime el nombre de cada ciudad y toda la información que tengas almacenada sobre ella."
      ],
      "metadata": {
        "id": "YjkTHXHWnY-y"
      }
    },
    {
      "cell_type": "code",
      "source": [
        "ciudades = {\n",
        "    'ciudad1':  ['pais1', 'poblacion1', 'la ciudad1 tiene un clima tropical.'] ,\n",
        "    'ciudad2':  ['pais2', 'poblacion2', 'la ciudad2 está situado en el sur.'],\n",
        "    'ciudad3':  ['pais3', 'poblacion3', 'la ciudad3 tiene playas my bonitas.']\n",
        "}\n",
        "for city, information in ciudades.items():\n",
        "  print(f\"\\nLa información de la ciudad {city} es:\")\n",
        "\n",
        "  for info in information:\n",
        "    print(f\"\\t{info}\")\n"
      ],
      "metadata": {
        "id": "8XJTujinsk6n",
        "outputId": "ffb8a1fd-99ed-4b6a-bc7c-8dd786f34aa5",
        "colab": {
          "base_uri": "https://localhost:8080/"
        }
      },
      "execution_count": 4,
      "outputs": [
        {
          "output_type": "stream",
          "name": "stdout",
          "text": [
            "\n",
            "La información de la ciudad ciudad1 es:\n",
            "\tpais1\n",
            "\tpoblacion1\n",
            "\tla ciudad1 tiene un clima tropical.\n",
            "\n",
            "La información de la ciudad ciudad2 es:\n",
            "\tpais2\n",
            "\tpoblacion2\n",
            "\tla ciudad2 está situado en el sur.\n",
            "\n",
            "La información de la ciudad ciudad3 es:\n",
            "\tpais3\n",
            "\tpoblacion3\n",
            "\tla ciudad3 tiene playas my bonitas.\n"
          ]
        }
      ]
    },
    {
      "cell_type": "markdown",
      "source": [
        "---\n",
        "\n",
        "<b> Ejercicio 5</b>\n",
        "\n",
        "Ahora estamos trabajando con ejemplos que son lo suficientemente complejos como para que puedan extenderse de varias maneras. Utilice uno de los programas de este laboratorio y amplíelo agregando nuevas claves y valores, cambiando el contexto del programa o mejorando el formato de la salida.\n",
        "\n",
        "---"
      ],
      "metadata": {
        "id": "hMvNIar-nqAr"
      }
    },
    {
      "cell_type": "code",
      "source": [],
      "metadata": {
        "id": "W1n9V1a4xsan"
      },
      "execution_count": null,
      "outputs": []
    },
    {
      "cell_type": "markdown",
      "source": [
        "---\n",
        "\n",
        "# Gracias por completar este laboratorio!\n",
        "\n",
        "---\n"
      ],
      "metadata": {
        "id": "LY_03M0BoJZQ"
      }
    }
  ]
}