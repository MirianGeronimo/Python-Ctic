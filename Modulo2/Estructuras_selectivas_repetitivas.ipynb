{
  "nbformat": 4,
  "nbformat_minor": 0,
  "metadata": {
    "colab": {
      "name": "modulo 2.ipynb",
      "provenance": [],
      "include_colab_link": true
    },
    "kernelspec": {
      "name": "python3",
      "display_name": "Python 3"
    },
    "language_info": {
      "name": "python"
    }
  },
  "cells": [
    {
      "cell_type": "markdown",
      "metadata": {
        "id": "view-in-github",
        "colab_type": "text"
      },
      "source": [
        "<a href=\"https://colab.research.google.com/github/MirianGeronimo/Python-Ctic/blob/main/Modulo2/Estructuras_selectivas_repetitivas.ipynb\" target=\"_parent\"><img src=\"https://colab.research.google.com/assets/colab-badge.svg\" alt=\"Open In Colab\"/></a>"
      ]
    },
    {
      "cell_type": "markdown",
      "source": [
        "### Constantes"
      ],
      "metadata": {
        "id": "pncAPB7TPruo"
      }
    },
    {
      "cell_type": "markdown",
      "source": [
        "<b> Ejercicio </b>\n",
        "\n",
        "Usa una variable para representar un número. Luego, usando esa variable, cree un mensaje que revele su número. Imprime ese mensaje."
      ],
      "metadata": {
        "id": "CpJsuNbVRKZ3"
      }
    },
    {
      "cell_type": "code",
      "source": [
        "variable=5\n",
        "print('El numero es:', variable)"
      ],
      "metadata": {
        "id": "xzEXy1Mr-SOG",
        "outputId": "4d6e1d3b-b55d-4f13-cb5e-95d8d8ef612b",
        "colab": {
          "base_uri": "https://localhost:8080/"
        }
      },
      "execution_count": null,
      "outputs": [
        {
          "output_type": "stream",
          "name": "stdout",
          "text": [
            "El numero es: 5\n"
          ]
        }
      ]
    },
    {
      "cell_type": "markdown",
      "source": [
        "Doble-click __aquí__ para ver la solución.\n",
        "<!-- La respuesta es:\n",
        "num = 12\n",
        "print(f\"El número es {num}\")\n",
        "-->\n",
        "\n"
      ],
      "metadata": {
        "id": "jMC81ZCBTmJc"
      }
    },
    {
      "cell_type": "markdown",
      "source": [
        "### Probando múltiples condiciones"
      ],
      "metadata": {
        "id": "_8dO4jjn-Ga_"
      }
    },
    {
      "cell_type": "markdown",
      "source": [
        "<b> Ejercicio 1</b>\n",
        "\n",
        "Imagina que un extraterrestre acaba de ser derribado en un juego. Cree una variable llamada alien_color y asígnele un valor de 'verde', 'amarillo' o 'rojo'.\n",
        "\n",
        "Escribe una declaración if para probar si el color del extraterrestre es verde. Si es así, imprime un mensaje de que el jugador acaba de ganar 5 puntos."
      ],
      "metadata": {
        "id": "Y-WZOmge-ddV"
      }
    },
    {
      "cell_type": "code",
      "source": [
        "alien_color= 'verde'\n",
        "if alien_color== 'verde':\n",
        "  print('El jugador acaba de ganar 5 puntos.')"
      ],
      "metadata": {
        "id": "772MRxXm-6dU",
        "outputId": "ddf6c124-99bd-4179-e0e1-ba30374af889",
        "colab": {
          "base_uri": "https://localhost:8080/"
        }
      },
      "execution_count": null,
      "outputs": [
        {
          "output_type": "stream",
          "name": "stdout",
          "text": [
            "El jugador acaba de ganar 5 puntos.\n"
          ]
        }
      ]
    },
    {
      "cell_type": "markdown",
      "source": [
        "<b> Ejercicio 2</b>\n",
        "\n",
        "Elija un color para un extraterrestre como lo hizo en el Ejercicio anterior y escriba una cadena if-else.\n",
        "\n",
        "Si el alienígena es verde, imprime un mensaje de que el jugador obtuvo 5 puntos.\n",
        "Si el alienígena es amarillo, imprime un mensaje de que el jugador obtuvo 10 puntos.\n",
        "Si el alienígena es rojo, imprime un mensaje de que el jugador obtuvo 15 puntos."
      ],
      "metadata": {
        "id": "fe2t6tUu-_sX"
      }
    },
    {
      "cell_type": "code",
      "source": [
        "alien_color= 'verde'\n",
        "if alien_color== 'verde':\n",
        "  print('El jugador obtuvo 5 puntos.')\n",
        "elif alien_color=='amarillo':\n",
        "  print('El jugador obtuvo 10 puntos.')\n",
        "elif alien_color == 'rojo':\n",
        "  print('El jugador obtuvo 15 puntos.')"
      ],
      "metadata": {
        "id": "DKvFvAiq_L3b",
        "outputId": "08879f8e-d1c8-4116-c92e-ce0b9b2f9c52",
        "colab": {
          "base_uri": "https://localhost:8080/"
        }
      },
      "execution_count": null,
      "outputs": [
        {
          "output_type": "stream",
          "name": "stdout",
          "text": [
            "El jugador obtuvo 5 puntos.\n"
          ]
        }
      ]
    },
    {
      "cell_type": "markdown",
      "source": [
        "# Sentencias While"
      ],
      "metadata": {
        "id": "tQ7O2WPW_uWn"
      }
    },
    {
      "cell_type": "markdown",
      "source": [
        "### Evitando Loops infinitos"
      ],
      "metadata": {
        "id": "YHli8JqnEsX6"
      }
    },
    {
      "cell_type": "markdown",
      "source": [
        "<b> Ejercicio 1</b>\n",
        "\n",
        "Escriba un ciclo que solicite al usuario que ingrese una serie de ingredientes para la pizza hasta que ingrese un valor de 'salir'. A medida que ingresen cada ingrediente, imprima un mensaje que diga que agregará ese ingrediente a su pizza."
      ],
      "metadata": {
        "id": "NzzH8uoCFAMM"
      }
    },
    {
      "cell_type": "code",
      "source": [
        "prompt = \"\\nIngrese algún ingrediente para la pizza:\"\n",
        "prompt += \"\\nEscribe 'salir' para finalizar. \"\n",
        "\n",
        "while True:\n",
        "       ingrediente = input(prompt)\n",
        "\n",
        "       if ingrediente == 'salir':\n",
        "           break\n",
        "       else:\n",
        "           print(f\"Se agregará {ingrediente.title()} a la pizza!.\")\n"
      ],
      "metadata": {
        "id": "EEv8MVCa_tRd",
        "outputId": "33da897f-5b62-4dad-9d79-b20a2cbe4a0c",
        "colab": {
          "base_uri": "https://localhost:8080/"
        }
      },
      "execution_count": null,
      "outputs": [
        {
          "name": "stdout",
          "output_type": "stream",
          "text": [
            "\n",
            "Ingrese algún ingrediente para la pizza:\n",
            "Escribe 'salir' para finalizar. queso\n",
            "Se agregará Queso a la pizza!.\n",
            "\n",
            "Ingrese algún ingrediente para la pizza:\n",
            "Escribe 'salir' para finalizar. salir\n"
          ]
        }
      ]
    },
    {
      "cell_type": "markdown",
      "source": [
        "<b> Ejercicio 2</b>\n",
        "\n",
        "Un cine cobra diferentes precios de boletos dependiendo de la edad de una persona. Si una persona es menor de 3 años, la entrada es gratuita; si son entre 3 y 12, el boleto cuesta s/. 10; y si son mayores de 12 años, el boleto cuesta s/. 15. Escriba un ciclo en el que pregunte a los usuarios su edad y luego dígales el costo de su boleto de cine."
      ],
      "metadata": {
        "id": "ATFL1LTaFDoF"
      }
    },
    {
      "cell_type": "code",
      "source": [
        "edad = int(input('Ingrese su edad:'))\n",
        "if edad < 3:\n",
        "  print('La entrada es gratuita.')\n",
        "elif edad <=12:\n",
        "  print('El boleto cuesta s/. 10.')\n",
        "else:\n",
        "  print('El boleto cuesta s/. 15.')"
      ],
      "metadata": {
        "id": "dWOzK_coAufh",
        "outputId": "15707bba-542f-463c-95fb-ed2b469bcdef",
        "colab": {
          "base_uri": "https://localhost:8080/"
        }
      },
      "execution_count": null,
      "outputs": [
        {
          "output_type": "stream",
          "name": "stdout",
          "text": [
            "Ingrese su edad:2\n",
            "La entrada es gratuita.\n"
          ]
        }
      ]
    },
    {
      "cell_type": "markdown",
      "source": [
        "# 3. Sentencia For"
      ],
      "metadata": {
        "id": "wGafafRIF6Bz"
      }
    },
    {
      "cell_type": "markdown",
      "source": [
        "<b> Ejercicio 1</b>\n",
        "\n",
        "\n",
        "Piensa en al menos tres tipos de tu pizza favorita. Almacene estos nombres de pizza en una lista y luego use un ciclo for para imprimir el nombre de cada pizza.\n",
        "\n",
        "Modifique su ciclo for para imprimir una oración usando el nombre de la pizza en lugar de imprimir solo el nombre de la pizza. Para cada pizza, debe tener una línea de salida que contenga una declaración simple como Me gusta la pizza de pepperoni.\n",
        "Agregue una línea al final de su programa, fuera del bucle for, que indique cuánto le gusta la pizza. El resultado debe constar de tres o más líneas sobre los tipos de pizza que te gustan y luego una oración adicional, como ¡Me encanta la pizza!\n"
      ],
      "metadata": {
        "id": "FHwT_HI5Hedh"
      }
    },
    {
      "cell_type": "code",
      "source": [
        "pizza = ['pepperoni', 'hawaiana', 'cuatro estaciones']\n",
        "for pizza_type in pizza:\n",
        "  print(pizza_type.title())"
      ],
      "metadata": {
        "id": "zWL1ZP_iUtwY",
        "outputId": "57edeaa2-9901-4a81-cb10-d79748b77788",
        "colab": {
          "base_uri": "https://localhost:8080/"
        }
      },
      "execution_count": null,
      "outputs": [
        {
          "output_type": "stream",
          "name": "stdout",
          "text": [
            "Pepperoni\n",
            "Hawaiana\n",
            "Cuatro Estaciones\n"
          ]
        }
      ]
    },
    {
      "cell_type": "code",
      "source": [
        "pizza = ['pepperoni', 'hawaiana', 'cuatro estaciones']\n",
        "for pizza_type in pizza:\n",
        "  print(f\"Me gusta la pizza {pizza_type.title()}.\")\n",
        "print('Me encanta la Pizza.')"
      ],
      "metadata": {
        "id": "E_qwB5HcBotz",
        "outputId": "aac74e55-d6fa-412b-9164-fa9670c81f57",
        "colab": {
          "base_uri": "https://localhost:8080/"
        }
      },
      "execution_count": null,
      "outputs": [
        {
          "output_type": "stream",
          "name": "stdout",
          "text": [
            "Me gusta la pizza Pepperoni.\n",
            "Me gusta la pizza Hawaiana.\n",
            "Me gusta la pizza Cuatro Estaciones.\n",
            "Me encanta la Pizza.\n"
          ]
        }
      ]
    },
    {
      "cell_type": "markdown",
      "source": [
        "<b> Ejercicio 2</b>\n",
        "\n",
        "Piensa en al menos tres animales diferentes que tengan una característica común. Guarde los nombres de estos animales en una lista y luego use un ciclo for para imprimir el nombre de cada animal.\n",
        "\n",
        "Modifique su programa para imprimir una declaración sobre cada animal, como Un perro sería una gran mascota.\n",
        "Agregue una línea al final de su programa indicando lo que estos animales tienen en común. Podría escribir una oración como ¡Cualquiera de estos animales sería una gran mascota!"
      ],
      "metadata": {
        "id": "CBNrK6wXHnEm"
      }
    },
    {
      "cell_type": "code",
      "source": [
        "animales = ['pez', 'tortuga', 'ballena']\n",
        "for animales_type in animales:\n",
        "  print(animales_type.title())"
      ],
      "metadata": {
        "id": "JHtfAhh_U-H5",
        "outputId": "49109565-b829-4a00-ffb4-9cb520d195ee",
        "colab": {
          "base_uri": "https://localhost:8080/"
        }
      },
      "execution_count": null,
      "outputs": [
        {
          "output_type": "stream",
          "name": "stdout",
          "text": [
            "Pez\n",
            "Tortuga\n",
            "Ballena\n"
          ]
        }
      ]
    },
    {
      "cell_type": "code",
      "source": [
        "animales = ['pez', 'tortuga', 'ballena']\n",
        "for animales_type in animales:\n",
        "  print(f\"Un {animales_type.title()} es libre en el mar.\")\n",
        "\n",
        "print('Estos animales viven en el mar y son muy hermosos.')"
      ],
      "metadata": {
        "id": "k5v6Wpb2DQ_5",
        "outputId": "21909606-9212-4ea3-f079-4b6932dd8688",
        "colab": {
          "base_uri": "https://localhost:8080/"
        }
      },
      "execution_count": null,
      "outputs": [
        {
          "output_type": "stream",
          "name": "stdout",
          "text": [
            "Un Pez es libre en el mar.\n",
            "Un Tortuga es libre en el mar.\n",
            "Un Ballena es libre en el mar.\n",
            "Estos animales viven en el mar y son muy hermosos.\n"
          ]
        }
      ]
    },
    {
      "cell_type": "markdown",
      "source": [
        "---\n",
        "\n",
        "# Gracias por completar este laboratorio!\n",
        "\n",
        "---\n"
      ],
      "metadata": {
        "id": "Z8TPfkHyH_D5"
      }
    }
  ]
}