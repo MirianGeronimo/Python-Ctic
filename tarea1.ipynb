{
  "nbformat": 4,
  "nbformat_minor": 0,
  "metadata": {
    "colab": {
      "name": "tarea1.ipynb",
      "provenance": [],
      "authorship_tag": "ABX9TyPPMfBq7HTiCZ92s5OMifCb",
      "include_colab_link": true
    },
    "kernelspec": {
      "name": "python3",
      "display_name": "Python 3"
    },
    "language_info": {
      "name": "python"
    }
  },
  "cells": [
    {
      "cell_type": "markdown",
      "metadata": {
        "id": "view-in-github",
        "colab_type": "text"
      },
      "source": [
        "<a href=\"https://colab.research.google.com/github/MirianGeronimo/clase-3-prueba/blob/main/tarea1.ipynb\" target=\"_parent\"><img src=\"https://colab.research.google.com/assets/colab-badge.svg\" alt=\"Open In Colab\"/></a>"
      ]
    },
    {
      "cell_type": "code",
      "execution_count": 3,
      "metadata": {
        "colab": {
          "base_uri": "https://localhost:8080/"
        },
        "id": "_IHkcocMDrS2",
        "outputId": "d2c22150-e5a8-473c-cbba-0a175b60899c"
      },
      "outputs": [
        {
          "output_type": "stream",
          "name": "stdout",
          "text": [
            "Lima esta en Peru\n"
          ]
        }
      ],
      "source": [
        "def make_shirt(ciudad,pais):\n",
        "  print(f'{ciudad} esta en {pais}')\n",
        "\n",
        "make_shirt('Lima', 'Peru')"
      ]
    },
    {
      "cell_type": "code",
      "source": [
        "def describe_city(pais,ciudad):\n",
        "  pais='Argentina'\n",
        "  ciudad=input(\"ingrese ciudad\")\n",
        "  return print(ciudad+\"esta en\"+pais)\n",
        "\n",
        "describe_city('Lima' , 'Peru')"
      ],
      "metadata": {
        "colab": {
          "base_uri": "https://localhost:8080/"
        },
        "id": "nnF9H150wv5k",
        "outputId": "ce73b73c-157e-48fb-8f07-d5f1cf7a91d3"
      },
      "execution_count": 6,
      "outputs": [
        {
          "output_type": "stream",
          "name": "stdout",
          "text": [
            "ingrese ciudadcordoba\n",
            "cordobaesta enArgentina\n"
          ]
        }
      ]
    }
  ]
}