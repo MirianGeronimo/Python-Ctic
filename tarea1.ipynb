{
  "nbformat": 4,
  "nbformat_minor": 0,
  "metadata": {
    "colab": {
      "name": "tarea1.ipynb",
      "provenance": [],
      "authorship_tag": "ABX9TyN2no7+kp/ZZuuj3T7ahzoz",
      "include_colab_link": true
    },
    "kernelspec": {
      "name": "python3",
      "display_name": "Python 3"
    },
    "language_info": {
      "name": "python"
    }
  },
  "cells": [
    {
      "cell_type": "markdown",
      "metadata": {
        "id": "view-in-github",
        "colab_type": "text"
      },
      "source": [
        "<a href=\"https://colab.research.google.com/github/MirianGeronimo/Python-Ctic/blob/main/tarea1.ipynb\" target=\"_parent\"><img src=\"https://colab.research.google.com/assets/colab-badge.svg\" alt=\"Open In Colab\"/></a>"
      ]
    },
    {
      "cell_type": "code",
      "execution_count": 7,
      "metadata": {
        "colab": {
          "base_uri": "https://localhost:8080/"
        },
        "id": "_IHkcocMDrS2",
        "outputId": "2b86704a-a405-471f-e8a4-e62d7c72e952"
      },
      "outputs": [
        {
          "output_type": "stream",
          "name": "stdout",
          "text": [
            "Lima esta en Peru\n"
          ]
        }
      ],
      "source": [
        "def describe_city(ciudad,pais):\n",
        "  print(f'{ciudad} esta en {pais}')\n",
        "\n",
        "describe_city('Lima', 'Peru')"
      ]
    },
    {
      "cell_type": "code",
      "source": [
        "def describe_city(pais,ciudad):\n",
        "  pais='Argentina'\n",
        "  ciudad=input(\"ingrese ciudad: \")\n",
        "  return print(ciudad+\" esta en \"+pais)\n",
        "\n",
        "describe_city('Lima' , 'Peru')"
      ],
      "metadata": {
        "colab": {
          "base_uri": "https://localhost:8080/"
        },
        "id": "nnF9H150wv5k",
        "outputId": "b9876584-4e0c-4095-e468-b2a54eb1c40e"
      },
      "execution_count": 9,
      "outputs": [
        {
          "output_type": "stream",
          "name": "stdout",
          "text": [
            "ingrese ciudad: Cordoba\n",
            "Cordoba esta en Argentina\n"
          ]
        }
      ]
    }
  ]
}