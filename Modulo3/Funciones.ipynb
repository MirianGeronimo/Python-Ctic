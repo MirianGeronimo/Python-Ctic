{
  "nbformat": 4,
  "nbformat_minor": 0,
  "metadata": {
    "colab": {
      "name": "modulo 3.ipynb",
      "provenance": [],
      "include_colab_link": true
    },
    "kernelspec": {
      "name": "python3",
      "display_name": "Python 3"
    },
    "language_info": {
      "name": "python"
    }
  },
  "cells": [
    {
      "cell_type": "markdown",
      "metadata": {
        "id": "view-in-github",
        "colab_type": "text"
      },
      "source": [
        "<a href=\"https://colab.research.google.com/github/MirianGeronimo/Python-Ctic/blob/main/Modulo3/Funciones.ipynb\" target=\"_parent\"><img src=\"https://colab.research.google.com/assets/colab-badge.svg\" alt=\"Open In Colab\"/></a>"
      ]
    },
    {
      "cell_type": "markdown",
      "source": [
        "#2. Usando información dentro de funciones"
      ],
      "metadata": {
        "id": "p7e7CUC_YjWU"
      }
    },
    {
      "cell_type": "markdown",
      "source": [
        "---\n",
        "\n",
        "<b> Ejercicio 1</b>\n",
        "\n",
        "Escriba una función llamada **display_message()** que imprima una oración que diga a todos lo que está aprendiendo en este capítulo. Llame a la función y asegúrese de que el mensaje se muestre correctamente.\n"
      ],
      "metadata": {
        "id": "D8I5O9AjZgLY"
      }
    },
    {
      "cell_type": "code",
      "source": [
        "def display_message():\n",
        "  print('estamos aprendiendo funciones')\n",
        "display_message()"
      ],
      "metadata": {
        "id": "R0aZ-TvoVoPW",
        "outputId": "4bccd599-4418-46a2-f42b-c5b8f9783b44",
        "colab": {
          "base_uri": "https://localhost:8080/"
        }
      },
      "execution_count": null,
      "outputs": [
        {
          "output_type": "stream",
          "name": "stdout",
          "text": [
            "estamos aprendiendo funciones\n"
          ]
        }
      ]
    },
    {
      "cell_type": "code",
      "source": [
        "display_message()"
      ],
      "metadata": {
        "id": "OFcSWrPsWxBS",
        "outputId": "d547a945-0a32-4fba-c723-cbaded164743",
        "colab": {
          "base_uri": "https://localhost:8080/"
        }
      },
      "execution_count": null,
      "outputs": [
        {
          "output_type": "stream",
          "name": "stdout",
          "text": [
            "estamos aprendiendo funciones\n"
          ]
        }
      ]
    },
    {
      "cell_type": "markdown",
      "source": [
        "\n",
        "---\n",
        "\n",
        "<b> Ejercicio 2</b>\n",
        "\n",
        "Escriba una función llamada **favorite_book()** que acepte un parámetro, título. La función debe imprimir un mensaje, como Uno de mis libros favoritos es Alicia en el país de las maravillas. Llame a la función, asegurándose de incluir el título de un libro como argumento en la llamada a la función.\n",
        "\n",
        "---"
      ],
      "metadata": {
        "id": "hk_i1gS_bvyv"
      }
    },
    {
      "cell_type": "code",
      "source": [
        "def favorite_book(titulo):\n",
        "  print(f'Uno de mis libros favoritos es {titulo}')\n",
        "\n",
        "favorite_book('Alicia en el país de las maravillas')\n"
      ],
      "metadata": {
        "id": "BRy_yROXVpdr",
        "outputId": "dea54de5-a43d-48c4-96bf-126cb9f094f3",
        "colab": {
          "base_uri": "https://localhost:8080/"
        }
      },
      "execution_count": null,
      "outputs": [
        {
          "output_type": "stream",
          "name": "stdout",
          "text": [
            "Uno de mis libros favoritos es Alicia en el país de las maravillas\n"
          ]
        }
      ]
    },
    {
      "cell_type": "code",
      "source": [
        "favorite_book('Alicia en el país de las maravillas')"
      ],
      "metadata": {
        "id": "RNnx_YErXVj3",
        "outputId": "1df301a9-e9bd-4095-9c2d-3f3cbd649a78",
        "colab": {
          "base_uri": "https://localhost:8080/"
        }
      },
      "execution_count": null,
      "outputs": [
        {
          "output_type": "stream",
          "name": "stdout",
          "text": [
            "Uno de mis libros favoritos es Alicia en el país de las maravillas\n"
          ]
        }
      ]
    },
    {
      "cell_type": "markdown",
      "source": [
        "### Evitar errores de argumento"
      ],
      "metadata": {
        "id": "21XnPX-tssX5"
      }
    },
    {
      "cell_type": "markdown",
      "source": [
        "---\n",
        "\n",
        "<b> Ejercicio 1</b>\n",
        "\n",
        "Escribe una función llamada **make_shirt()** que acepte un tamaño y el texto de un mensaje que debería estar impreso en la camiseta. La función debe imprimir una oración que resuma el tamaño de la camisa y el mensaje impreso en ella.\n",
        "\n",
        "Llame a la función una vez usando argumentos posicionales para hacer una camisa. Llame a la función por segunda vez usando argumentos de palabras clave.\n"
      ],
      "metadata": {
        "id": "ixT6ac8IrM_m"
      }
    },
    {
      "cell_type": "code",
      "source": [
        "def make_shirt(tamaño,texto):\n",
        "  print(f'El tamaño de la camiseta es {tamaño} y el texto \"{texto}\"')\n",
        "\n",
        "make_shirt('mediano','hola')\n",
        "make_shirt(tamaño='30',texto='HOLA')\n",
        "\n",
        "\n"
      ],
      "metadata": {
        "id": "WUH6093hetPR",
        "outputId": "37d61c41-d443-4e6a-deb1-70fff52c5e92",
        "colab": {
          "base_uri": "https://localhost:8080/"
        }
      },
      "execution_count": null,
      "outputs": [
        {
          "output_type": "stream",
          "name": "stdout",
          "text": [
            "El tamaño de la camiseta es mediano y el texto \"hola\"\n",
            "El tamaño de la camiseta es 30 y el texto \"HOLA\"\n"
          ]
        }
      ]
    },
    {
      "cell_type": "markdown",
      "source": [
        "---\n",
        "\n",
        "<b> Ejercicio 2</b>\n",
        "\n",
        "Modifique la función **make_shirt()** para que las camisetas sean grandes por defecto con un mensaje que diga Me encanta Python. Haz una camiseta grande y una camiseta mediana con el mensaje predeterminado y una camiseta de cualquier tamaño con un mensaje diferente.\n"
      ],
      "metadata": {
        "id": "SFKpbJpntvpg"
      }
    },
    {
      "cell_type": "code",
      "source": [
        "def make_shirt(tamaño='grande',texto='Me encanta python'):\n",
        "  print(f'El tamaño de la camiseta es {tamaño} y el texto \"{texto}\".')\n",
        "make_shirt()"
      ],
      "metadata": {
        "id": "6MipWZ0HO9YO",
        "outputId": "b85e232c-a9a3-467c-f0fd-0b6f09dfd5a8",
        "colab": {
          "base_uri": "https://localhost:8080/"
        }
      },
      "execution_count": null,
      "outputs": [
        {
          "output_type": "stream",
          "name": "stdout",
          "text": [
            "El tamaño de la camiseta es grande y el texto \"Me encanta python\".\n"
          ]
        }
      ]
    },
    {
      "cell_type": "code",
      "source": [
        "make_shirt(tamaño='mediano')\n",
        "make_shirt(tamaño='pequeño',texto ='Hola Mundo')"
      ],
      "metadata": {
        "id": "bn0XCFzYQkF9",
        "outputId": "56e4f07c-4200-4501-e451-f90e8c94d290",
        "colab": {
          "base_uri": "https://localhost:8080/"
        }
      },
      "execution_count": null,
      "outputs": [
        {
          "output_type": "stream",
          "name": "stdout",
          "text": [
            "El tamaño de la camiseta es mediano y el texto \"Me encanta python\".\n",
            "El tamaño de la camiseta es pequeño y el texto \"Hola Mundo\".\n"
          ]
        }
      ]
    },
    {
      "cell_type": "markdown",
      "source": [
        "---\n",
        "\n",
        "<b> Ejercicio 3</b>\n",
        "\n",
        "Escribe una función llamada **describe_city()** que acepte el nombre de una ciudad y su país. La función debe imprimir una oración simple, como Reykjavik está en Islandia. Asigne al parámetro para el país un valor predeterminado. Llame a su función para tres ciudades diferentes, al menos una de las cuales no se encuentra en el país predeterminado.\n",
        "\n",
        "----"
      ],
      "metadata": {
        "id": "G0qpoz40uBJt"
      }
    },
    {
      "cell_type": "code",
      "source": [
        "def describe_city(ciudad,pais):\n",
        "  print(f'{ciudad} esta en {pais}.')\n",
        "\n",
        "describe_city('Lima','Peru')"
      ],
      "metadata": {
        "id": "XTmDhhhHRG9X",
        "outputId": "d9465abb-7806-4144-da29-4d80ba047a30",
        "colab": {
          "base_uri": "https://localhost:8080/"
        }
      },
      "execution_count": null,
      "outputs": [
        {
          "output_type": "stream",
          "name": "stdout",
          "text": [
            "Lima esta en Peru.\n"
          ]
        }
      ]
    },
    {
      "cell_type": "code",
      "source": [
        "def describe_city(ciudad,pais='Peru'):\n",
        "  print(f'{ciudad} esta en {pais}.')\n",
        "describe_city('Ica')\n",
        "describe_city(ciudad='Ayacucho')"
      ],
      "metadata": {
        "id": "NTzqsngkTqbs",
        "outputId": "0058b0e8-9ee6-4d7a-947a-4e222f4bfe96",
        "colab": {
          "base_uri": "https://localhost:8080/"
        }
      },
      "execution_count": null,
      "outputs": [
        {
          "output_type": "stream",
          "name": "stdout",
          "text": [
            "Ica esta en Peru.\n",
            "Ayacucho esta en Peru.\n"
          ]
        }
      ]
    },
    {
      "cell_type": "code",
      "source": [
        "describe_city(ciudad ='Buenos aires', pais= 'Argentina')"
      ],
      "metadata": {
        "id": "7IEIg_VHUa9Z",
        "outputId": "7809008f-3428-4430-83a4-b50a93ef7ea7",
        "colab": {
          "base_uri": "https://localhost:8080/"
        }
      },
      "execution_count": null,
      "outputs": [
        {
          "output_type": "stream",
          "name": "stdout",
          "text": [
            "Buenos aires esta en Argentina.\n"
          ]
        }
      ]
    },
    {
      "cell_type": "markdown",
      "source": [
        "# 4. Usando funciones con loops while"
      ],
      "metadata": {
        "id": "tSAkV-as0rdS"
      }
    },
    {
      "cell_type": "markdown",
      "source": [
        "---\n",
        "\n",
        "<b> Ejercicio 1</b>\n",
        "\n",
        "Escribe una función llamada **city_country()** que tome el nombre de una ciudad y su país. La función debería devolver una cadena con el formato siguiente:\n",
        "\n",
        "\"Santiago, Chile\"\n",
        "\n",
        "Llame a su función con al menos tres pares de ciudades y países e imprima los valores que se devuelven.\n"
      ],
      "metadata": {
        "id": "WtFtOrbS4BzE"
      }
    },
    {
      "cell_type": "code",
      "source": [
        "def city_country(ciudad, pais):\n",
        "   texto = f' \"{ciudad.title()}, {pais.title()}\" '\n",
        "   return texto\n",
        "\n",
        "while True:\n",
        "   print(\"Escriba 'salir' si desea salir\")\n",
        "   f_ciudades = input(\"Ciudad: \")\n",
        "   if f_ciudades =='salir':\n",
        "       break\n",
        "   f_paises = input(\"Pais: \")\n",
        "   if f_paises == 'salir':\n",
        "       break\n",
        "   city_completed = city_country(f_ciudades, f_paises)\n",
        "   print(f\"{city_completed}\")\n"
      ],
      "metadata": {
        "id": "WSb8L5D2yJwU",
        "outputId": "5c479d21-33aa-4d5c-97eb-2cb233b57b8d",
        "colab": {
          "base_uri": "https://localhost:8080/"
        }
      },
      "execution_count": null,
      "outputs": [
        {
          "name": "stdout",
          "output_type": "stream",
          "text": [
            "Escriba 'salir' si desea salir\n",
            "Ciudad: lima\n",
            "Pais: peru\n",
            " \"Lima, Peru\" \n",
            "Escriba 'salir' si desea salir\n",
            "Ciudad: salir\n"
          ]
        }
      ]
    },
    {
      "cell_type": "markdown",
      "source": [
        "---\n",
        "\n",
        "<b> Ejercicio 2</b>\n",
        "\n",
        "Escriba una función llamada **make_album()** que cree un diccionario que describa un álbum de música. La función debe tomar el nombre de un artista y el título de un álbum, y debe devolver un diccionario que contenga estos dos datos. Utilice la función para crear tres diccionarios que representen diferentes álbumes. Imprima cada valor devuelto para mostrar que los diccionarios están almacenando la información del álbum correctamente.\n",
        "\n",
        "Use <b>None</b> para agregar un parámetro opcional a **make_album()** que le permita almacenar la cantidad de canciones en un álbum. Si la línea de llamada incluye un valor para la cantidad de canciones, agregue ese valor al diccionario del álbum. Realice al menos una nueva llamada de función que incluya la cantidad de canciones en un álbum."
      ],
      "metadata": {
        "id": "z06Pz7sy4YG0"
      }
    },
    {
      "cell_type": "code",
      "source": [
        "def make_album(nombre,titulo_album):\n",
        "  album = {\n",
        "      'Nombre' : nombre,\n",
        "      'Titulo_album' : titulo_album\n",
        "  }\n",
        "  return album\n",
        "\n",
        "print(make_album('taylor','1989'))\n",
        "print(make_album('harry styles','1990'))\n",
        "print(make_album('camila','romance'))\n"
      ],
      "metadata": {
        "id": "KUpbLT4qhBUG",
        "outputId": "c5ec838e-4dc0-4292-a8ea-d251ab3dbc78",
        "colab": {
          "base_uri": "https://localhost:8080/"
        }
      },
      "execution_count": null,
      "outputs": [
        {
          "output_type": "stream",
          "name": "stdout",
          "text": [
            "{'Nombre': 'taylor', 'Titulo_album': '1989'}\n",
            "{'Nombre': 'harry styles', 'Titulo_album': '1990'}\n",
            "{'Nombre': 'camila', 'Titulo_album': 'romance'}\n"
          ]
        }
      ]
    },
    {
      "cell_type": "code",
      "source": [
        "def make_album(nombre,titulo_album,canciones = None):\n",
        "  album = {\n",
        "      'Nombre' : nombre,\n",
        "      'Titulo_album' : titulo_album,\n",
        "      'Cantidad_canciones': canciones\n",
        "  }\n",
        "  return album\n",
        "\n",
        "print(make_album('taylor','1989', 5))\n",
        "  "
      ],
      "metadata": {
        "id": "q-w9I1mqaCUC",
        "outputId": "05f002a5-a0c9-4bd5-ee99-f137a9c94218",
        "colab": {
          "base_uri": "https://localhost:8080/"
        }
      },
      "execution_count": null,
      "outputs": [
        {
          "output_type": "stream",
          "name": "stdout",
          "text": [
            "{'Nombre': 'taylor', 'Titulo_album': '1989', 'Cantidad_canciones': 5}\n"
          ]
        }
      ]
    },
    {
      "cell_type": "markdown",
      "source": [
        "---\n",
        "\n",
        "<b> Ejercicio 3</b>\n",
        "\n",
        "Comience con su programa del ejercicio anterior. Escriba un ciclo while que permita a los usuarios ingresar el artista y el título de un álbum. Una vez que tenga esa información, llame a **make_album()** con la entrada del usuario e imprima el diccionario que se crea. Asegúrese de incluir un valor de salida en el ciclo while.\n",
        "\n",
        "---"
      ],
      "metadata": {
        "id": "5iazrd6w5n-m"
      }
    },
    {
      "cell_type": "code",
      "source": [
        "while True:\n",
        "  print(\"\\nEscribe 'salir' para finalizar. \")\n",
        "  artista = str(input(\"Ingrese ingrese el nombre del artista:\"))\n",
        "  if artista == 'salir':\n",
        "    break\n",
        "  titulo = str(input('Ingrese el titulo del album:'))\n",
        "  if titulo == 'salir':\n",
        "    break\n",
        "  descrip_album = make_album(artista, titulo)\n",
        "  print(descrip_album)\n"
      ],
      "metadata": {
        "id": "MXaX0H3NCh4M",
        "outputId": "c53d5131-c2f7-4703-c454-4a5fa7039930",
        "colab": {
          "base_uri": "https://localhost:8080/"
        }
      },
      "execution_count": null,
      "outputs": [
        {
          "name": "stdout",
          "output_type": "stream",
          "text": [
            "\n",
            "Escribe 'salir' para finalizar. \n",
            "Ingrese ingrese el nombre del artista:camila cabello\n",
            "Ingrese el titulo del album:romance\n",
            "{'Nombre': 'camila cabello', 'Titulo_album': 'romance', 'Cantidad_canciones': None}\n",
            "\n",
            "Escribe 'salir' para finalizar. \n",
            "Ingrese ingrese el nombre del artista:salir\n"
          ]
        }
      ]
    },
    {
      "cell_type": "markdown",
      "source": [
        "# 5. Usando Listas"
      ],
      "metadata": {
        "id": "pdvnfTPo6-Lq"
      }
    },
    {
      "cell_type": "markdown",
      "source": [
        "### Modificar una lista en una función"
      ],
      "metadata": {
        "id": "irQJwQco81wH"
      }
    },
    {
      "cell_type": "markdown",
      "source": [
        "---\n",
        "\n",
        "<b> Ejercicio 1</b>\n",
        "\n",
        "Haz una lista que contenga una serie de mensajes de texto cortos. Pase la lista a una función llamada **show_messages()**, que imprime cada mensaje de texto.\n"
      ],
      "metadata": {
        "id": "AxoQ8UkPLzhr"
      }
    },
    {
      "cell_type": "code",
      "source": [
        "lista = ['hola','mundo','lejano']"
      ],
      "metadata": {
        "id": "-METWMqObefo"
      },
      "execution_count": null,
      "outputs": []
    },
    {
      "cell_type": "code",
      "source": [
        "def mostrar_men(messages):\n",
        "  for message in messages:\n",
        "    print(f'\\n{message}')\n",
        "mostrar_men(lista)\n"
      ],
      "metadata": {
        "id": "s0rWgO0K5huY",
        "outputId": "98e43154-2d7d-41ed-bdd4-413b04f6b827",
        "colab": {
          "base_uri": "https://localhost:8080/"
        }
      },
      "execution_count": null,
      "outputs": [
        {
          "output_type": "stream",
          "name": "stdout",
          "text": [
            "\n",
            "hola\n",
            "\n",
            "mundo\n",
            "\n",
            "lejano\n"
          ]
        }
      ]
    },
    {
      "cell_type": "markdown",
      "source": [
        "---\n",
        "\n",
        "<b> Ejercicio 2</b>\n",
        "\n",
        "Comience con una copia de su programa del Ejercicio anterior. Escriba una función llamada **send_messages()** que imprima cada mensaje de texto y mueva cada mensaje a una nueva lista llamada sent_messages a medida que se imprime. Después de llamar a la función, imprima ambas listas para asegurarse de que los mensajes se movieron correctamente."
      ],
      "metadata": {
        "id": "cr6vkbj-L_4Q"
      }
    },
    {
      "cell_type": "code",
      "source": [
        "lista = ['hola','mundo','lejano']\n",
        "def send_messages(messages):\n",
        "  sent_messages = []\n",
        "  while messages:\n",
        "    texto = messages.pop()\n",
        "    print(f\"Impriendo mensaje: {texto}\")\n",
        "    sent_messages.append(texto)\n",
        "\n",
        "  return messages, sent_messages\n",
        "  \n",
        "a, b=send_messages(lista)\n",
        "print('Lista inicial luego de mover los mensajes:')\n",
        "print(a)\n",
        "print('Lista sent_messages:')\n",
        "print(b)"
      ],
      "metadata": {
        "id": "xjbvhpY55iLV",
        "outputId": "62ed4ff5-7a6a-4f82-c5af-d762118fb881",
        "colab": {
          "base_uri": "https://localhost:8080/"
        }
      },
      "execution_count": null,
      "outputs": [
        {
          "output_type": "stream",
          "name": "stdout",
          "text": [
            "Impriendo mensaje: lejano\n",
            "Impriendo mensaje: mundo\n",
            "Impriendo mensaje: hola\n",
            "Lista inicial luego de mover los mensajes:\n",
            "[]\n",
            "Lista sent_messages:\n",
            "['lejano', 'mundo', 'hola']\n"
          ]
        }
      ]
    },
    {
      "cell_type": "markdown",
      "source": [
        "---\n",
        "\n",
        "<b> Ejercicio 3</b>\n",
        "\n",
        "Comience con su trabajo del Ejercicio anterior. Llame a la función **send_messages()** con una copia de la lista de mensajes. Después de llamar a la función, imprima ambas listas para mostrar que la lista original ha conservado sus mensajes.\n",
        "\n",
        "---"
      ],
      "metadata": {
        "id": "DeKTopX9McDP"
      }
    },
    {
      "cell_type": "code",
      "source": [
        "lista = ['hola','mundo','lejano']\n",
        "def send_messages(messages):\n",
        "  sent_messages = []\n",
        "  while messages:\n",
        "    texto = messages.pop()\n",
        "    print(f\"Impriendo mensaje: {texto}\")\n",
        "    sent_messages.append(texto)\n",
        "    \n",
        "  return messages, sent_messages\n",
        "  \n",
        "a,b=send_messages(lista)\n",
        "print(a)\n",
        "m,n=send_messages(b)\n",
        "print(n)\n",
        "\n"
      ],
      "metadata": {
        "id": "AWhkkEletFYr",
        "outputId": "71e80c6b-cbe6-4f0f-cfa5-3f7d74aadf74",
        "colab": {
          "base_uri": "https://localhost:8080/"
        }
      },
      "execution_count": null,
      "outputs": [
        {
          "output_type": "stream",
          "name": "stdout",
          "text": [
            "Impriendo mensaje: lejano\n",
            "Impriendo mensaje: mundo\n",
            "Impriendo mensaje: hola\n",
            "[]\n",
            "Impriendo mensaje: hola\n",
            "Impriendo mensaje: mundo\n",
            "Impriendo mensaje: lejano\n",
            "['hola', 'mundo', 'lejano']\n"
          ]
        }
      ]
    },
    {
      "cell_type": "markdown",
      "source": [
        "# 6. Pasar un número arbitrario de argumentos"
      ],
      "metadata": {
        "id": "Wnme938ANSqz"
      }
    },
    {
      "cell_type": "markdown",
      "source": [
        "### Uso de argumentos de palabras clave arbitrarias"
      ],
      "metadata": {
        "id": "N6DxNYhpO_PL"
      }
    },
    {
      "cell_type": "markdown",
      "source": [
        "---\n",
        "\n",
        "<b> Ejercicio 1</b>\n",
        "\n",
        "Escribe una función que acepte una lista de artículos que una persona quiere en un sándwich. La función debe tener un parámetro que recopile tantos elementos como proporcione la llamada a la función, y debe imprimir un resumen del sándwich que se está ordenando. Llame a la función tres veces, usando un número diferente de argumentos cada vez."
      ],
      "metadata": {
        "id": "0kYhXVPvQSh_"
      }
    },
    {
      "cell_type": "code",
      "source": [
        "def ingred_sandwich(*toppings):\n",
        "  print('El sandwich contiene los siguientes toppings:')\n",
        "  for topping in toppings:\n",
        "    print(f'- {topping}') \n",
        "\n",
        "ingred_sandwich('tomate', 'pollo', 'papas fritas', 'cremas')\n",
        "ingred_sandwich('carne', 'ají', 'huevo frito')\n",
        "ingred_sandwich('mayonesa', 'jamon')"
      ],
      "metadata": {
        "id": "rDcNXtPv8we_",
        "outputId": "85f0ac87-55eb-4002-be49-1c3731c058db",
        "colab": {
          "base_uri": "https://localhost:8080/"
        }
      },
      "execution_count": null,
      "outputs": [
        {
          "output_type": "stream",
          "name": "stdout",
          "text": [
            "El sandwich contiene los siguientes toppings:\n",
            "- tomate\n",
            "- pollo\n",
            "- papas fritas\n",
            "- cremas\n",
            "El sandwich contiene los siguientes toppings:\n",
            "- carne\n",
            "- ají\n",
            "- huevo frito\n",
            "El sandwich contiene los siguientes toppings:\n",
            "- mayonesa\n",
            "- jamon\n"
          ]
        }
      ]
    },
    {
      "cell_type": "markdown",
      "source": [
        "---\n",
        "\n",
        "<b> Ejercicio 2</b>\n",
        "\n",
        "Comience con una copia de **user_profile** de ***Uso de argumentos de palabras clave arbitrarias***. Cree un perfil de usted mismo llamando a **build_profile()**, usando su nombre y apellido y otros tres pares clave-valor que lo describan."
      ],
      "metadata": {
        "id": "NXvPqgVZQcx9"
      }
    },
    {
      "cell_type": "code",
      "source": [
        "def build_profile(first, last, age, color, color_eye, **user_info):\n",
        "    user_info['first_name'] = first\n",
        "    user_info['last_name'] = last\n",
        "    user_info['age']=age\n",
        "    user_info['favorite_color']=color\n",
        "    user_info['color_eyes'] = color_eye\n",
        "    return user_info\n",
        "\n",
        "user_profile = build_profile('Mirian', 'Geronimo', 24, 'rosado', 'black')\n",
        "print(user_profile)"
      ],
      "metadata": {
        "id": "s5_DRF0M-COA",
        "outputId": "d1afa120-135d-4947-aaf1-b328817fc203",
        "colab": {
          "base_uri": "https://localhost:8080/"
        }
      },
      "execution_count": null,
      "outputs": [
        {
          "output_type": "stream",
          "name": "stdout",
          "text": [
            "{'first_name': 'Mirian', 'last_name': 'Geronimo', 'age': 24, 'favorite_color': 'rosado', 'color_eyes': 'black'}\n"
          ]
        }
      ]
    },
    {
      "cell_type": "markdown",
      "source": [
        "---\n",
        "\n",
        "<b> Ejercicio 3</b>\n",
        "\n",
        "Escribe una función que almacene información sobre un automóvil en un diccionario. La función siempre debe recibir un fabricante y un nombre de modelo. Entonces debería aceptar un número arbitrario de argumentos de palabras clave. Llame a la función con la información requerida y otros dos pares de nombre y valor, como un color o una función opcional. Su función debería funcionar para una llamada como esta:\n",
        "\n",
        "coche = **make_car**('subaru', 'outback', color='blue', tow_package=True)\n",
        "\n",
        "Imprima el diccionario que se devuelve para asegurarse de que toda la información se almacenó correctamente.\n",
        "\n",
        "---"
      ],
      "metadata": {
        "id": "gpj7y6NYQjLq"
      }
    },
    {
      "cell_type": "code",
      "source": [
        "def make_car(fabricante, modelo, **car_info):\n",
        "    car_info['Fabricante'] = fabricante\n",
        "    car_info['Modelo'] = modelo\n",
        "    return car_info\n",
        "coche = make_car('subaru', 'outback', \n",
        "                             color='Blue',\n",
        "                             tow_package='True'\n",
        "                             )\n",
        "print(coche)"
      ],
      "metadata": {
        "id": "u7453JOk_bhn",
        "outputId": "3b60dc3d-221a-406f-e30c-6d88aa59a9d3",
        "colab": {
          "base_uri": "https://localhost:8080/"
        }
      },
      "execution_count": null,
      "outputs": [
        {
          "output_type": "stream",
          "name": "stdout",
          "text": [
            "{'color': 'Blue', 'tow_package': 'True', 'Fabricante': 'subaru', 'Modelo': 'outback'}\n"
          ]
        }
      ]
    },
    {
      "cell_type": "markdown",
      "source": [
        "# 8. Introducción a Clases"
      ],
      "metadata": {
        "id": "zl5-pV1XfXi1"
      }
    },
    {
      "cell_type": "markdown",
      "source": [
        "---\n",
        "\n",
        "<b> Ejercicio 1</b>\n",
        "\n",
        "Haz una clase llamada Restaurante. El método __init__() para Restaurante debe almacenar dos atributos: un nombre_restaurante y un tipo_cocina. Cree un método llamado describe_restaurant() que imprima estos dos datos y un método llamado open_restaurant() que imprima un mensaje que indique que el restaurante está abierto.\n",
        "\n",
        "Cree una instancia llamada restaurante de su clase. Imprima los dos atributos individualmente y luego llame a ambos métodos."
      ],
      "metadata": {
        "id": "kp8q0QVDgqkZ"
      }
    },
    {
      "cell_type": "code",
      "source": [
        "class Restaurante:\n",
        "    \"\"\"A simple attempt to model a restaurante.\"\"\"\n",
        "    def __init__(self, nombre_restaurante, tipo_cocina):\n",
        "        \"\"\"Initialize name and age attributes.\"\"\"\n",
        "        self.nombre_restaurante = nombre_restaurante\n",
        "        self.tipo_cocina = tipo_cocina\n",
        "\n",
        "    def describe_restaurant(self):\n",
        "        \"\"\"\"\"\"\n",
        "        print(f'{self.nombre_restaurante}, {self.tipo_cocina}')\n",
        "\n",
        "    def open_restaurant(self):\n",
        "        \"\"\"\"\"\"\n",
        "        print('El restaurante esta abierto')\n",
        "\n",
        "        "
      ],
      "metadata": {
        "id": "g7gst4DZAlSO"
      },
      "execution_count": null,
      "outputs": []
    },
    {
      "cell_type": "code",
      "source": [
        "my_rest = Restaurante('Gaston Acurio', 'Criolla')"
      ],
      "metadata": {
        "id": "kkVZF-lTBS-S"
      },
      "execution_count": null,
      "outputs": []
    },
    {
      "cell_type": "code",
      "source": [
        "my_rest.nombre_restaurante"
      ],
      "metadata": {
        "id": "Nb2A0lTlBd8O",
        "outputId": "4d32de2a-3856-469f-c503-5fe89402d6fe",
        "colab": {
          "base_uri": "https://localhost:8080/",
          "height": 35
        }
      },
      "execution_count": null,
      "outputs": [
        {
          "output_type": "execute_result",
          "data": {
            "text/plain": [
              "'Gaston Acurio'"
            ],
            "application/vnd.google.colaboratory.intrinsic+json": {
              "type": "string"
            }
          },
          "metadata": {},
          "execution_count": 95
        }
      ]
    },
    {
      "cell_type": "code",
      "source": [
        "my_rest.tipo_cocina"
      ],
      "metadata": {
        "id": "mkbW8_7oHTu0",
        "outputId": "fc848a5a-b038-4c16-f327-832429860572",
        "colab": {
          "base_uri": "https://localhost:8080/",
          "height": 35
        }
      },
      "execution_count": null,
      "outputs": [
        {
          "output_type": "execute_result",
          "data": {
            "text/plain": [
              "'Criolla'"
            ],
            "application/vnd.google.colaboratory.intrinsic+json": {
              "type": "string"
            }
          },
          "metadata": {},
          "execution_count": 96
        }
      ]
    },
    {
      "cell_type": "code",
      "source": [
        "my_rest.describe_restaurant()"
      ],
      "metadata": {
        "id": "Xmx3--qlBhrG",
        "outputId": "30b13d0e-c582-4fb3-e611-014136b8dfa3",
        "colab": {
          "base_uri": "https://localhost:8080/"
        }
      },
      "execution_count": null,
      "outputs": [
        {
          "output_type": "stream",
          "name": "stdout",
          "text": [
            "Gaston Acurio, Criolla\n"
          ]
        }
      ]
    },
    {
      "cell_type": "code",
      "source": [
        "my_rest.open_restaurant()"
      ],
      "metadata": {
        "id": "bpm8vBr2B5mT",
        "outputId": "841e0854-850e-4d3f-dcd7-d03b9483fa04",
        "colab": {
          "base_uri": "https://localhost:8080/"
        }
      },
      "execution_count": null,
      "outputs": [
        {
          "output_type": "stream",
          "name": "stdout",
          "text": [
            "El restaurante esta abierto\n"
          ]
        }
      ]
    },
    {
      "cell_type": "markdown",
      "source": [
        "---\n",
        "\n",
        "<b> Ejercicio 2</b>\n",
        "\n",
        "Comience con su clase del Ejercicio anterior. Cree tres instancias diferentes de la clase y llame a **describe_restaurant**() para cada instancia."
      ],
      "metadata": {
        "id": "uD1V4MnYgxO2"
      }
    },
    {
      "cell_type": "code",
      "source": [
        "my_rest1 = Restaurante('Gaston Acurio', 'Criolla')\n",
        "my_rest2 = Restaurante('Señor Limon', 'Marina')\n",
        "my_rest3 = Restaurante('Charrua', 'Carnes')"
      ],
      "metadata": {
        "id": "_OeMpa-OCCIm"
      },
      "execution_count": null,
      "outputs": []
    },
    {
      "cell_type": "code",
      "source": [
        "my_rest1.describe_restaurant() "
      ],
      "metadata": {
        "id": "cbxcp9m8CNNF",
        "outputId": "bc68667b-c975-49dd-8f37-3ee61c275960",
        "colab": {
          "base_uri": "https://localhost:8080/"
        }
      },
      "execution_count": null,
      "outputs": [
        {
          "output_type": "stream",
          "name": "stdout",
          "text": [
            "Gaston Acurio, Criolla\n"
          ]
        }
      ]
    },
    {
      "cell_type": "code",
      "source": [
        "my_rest2.describe_restaurant() "
      ],
      "metadata": {
        "id": "qiLUedoKCRGo",
        "outputId": "4657a3d5-99d8-4ba7-c246-203aa91c98ce",
        "colab": {
          "base_uri": "https://localhost:8080/"
        }
      },
      "execution_count": null,
      "outputs": [
        {
          "output_type": "stream",
          "name": "stdout",
          "text": [
            "Señor Limon, Marina\n"
          ]
        }
      ]
    },
    {
      "cell_type": "code",
      "source": [
        "my_rest3.describe_restaurant() "
      ],
      "metadata": {
        "id": "sKdb5ysrHl5T",
        "outputId": "974d82ae-6656-4371-d39c-27141ae7173a",
        "colab": {
          "base_uri": "https://localhost:8080/"
        }
      },
      "execution_count": null,
      "outputs": [
        {
          "output_type": "stream",
          "name": "stdout",
          "text": [
            "Charrua, Carnes\n"
          ]
        }
      ]
    },
    {
      "cell_type": "markdown",
      "source": [
        "---\n",
        "\n",
        "<b> Ejercicio 3</b>\n",
        "\n",
        "Haz una clase llamada Usuario. Cree dos atributos llamados **first_name** y **last_name**, y luego cree varios otros atributos que normalmente se almacenan en un perfil de usuario. Cree un método llamado **describe_user**() que imprima un resumen de la información del usuario. Cree otro método llamado **greeting_user**() que imprima un saludo personalizado para el usuario.\n",
        "\n",
        "Cree varias instancias que representen a diferentes usuarios y llame a ambos métodos para cada usuario.\n",
        "\n",
        "---"
      ],
      "metadata": {
        "id": "PlqVFUueg2QI"
      }
    },
    {
      "cell_type": "code",
      "source": [
        "class Usuario:\n",
        "    def __init__(self, first_name, last_name, age, birth_month):\n",
        "        self.first_name = first_name\n",
        "        self.last_name = last_name\n",
        "        self.age=age\n",
        "        self.birth_month=birth_month\n",
        "\n",
        "    def describe_user(self, **user_info):\n",
        "      user_info['First name'] = self.first_name\n",
        "      user_info['Last name'] = self.last_name\n",
        "      user_info['edad']=self.age\n",
        "      user_info['birth_month']=self.birth_month\n",
        "      print(user_info)\n",
        "        \n",
        "\n",
        "    def greeting_user(self):\n",
        "        \"\"\"\"\"\"\n",
        "        print(f\"Buenos días {self.first_name}.\")\n"
      ],
      "metadata": {
        "id": "ef38iJefHuXe"
      },
      "execution_count": null,
      "outputs": []
    },
    {
      "cell_type": "code",
      "source": [
        "persona1 = Usuario('Willie', 'Sanchez', 25, 'mayo')\n",
        "persona2 = Usuario('Lucy', 'Mendes', 30, 'enero')\n",
        "persona3= Usuario('Franss', 'Miller', 75, 'diciembre')\n",
        "persona1.describe_user()\n",
        "persona1.greeting_user()\n"
      ],
      "metadata": {
        "id": "wQ3WzwZLKle7",
        "outputId": "0a01ccc5-7533-4f79-982b-db69e0b4c9a2",
        "colab": {
          "base_uri": "https://localhost:8080/"
        }
      },
      "execution_count": null,
      "outputs": [
        {
          "output_type": "stream",
          "name": "stdout",
          "text": [
            "{'First name': 'Willie', 'Last name': 'Sanchez', 'edad': 25, 'birth_month': 'mayo'}\n",
            "Buenos días Willie.\n"
          ]
        }
      ]
    },
    {
      "cell_type": "code",
      "source": [
        "persona2.describe_user()\n",
        "persona2.greeting_user()"
      ],
      "metadata": {
        "id": "s4XuLGsskII3",
        "outputId": "892ccb62-e927-4014-fa0f-f3bf1c3d3182",
        "colab": {
          "base_uri": "https://localhost:8080/"
        }
      },
      "execution_count": null,
      "outputs": [
        {
          "output_type": "stream",
          "name": "stdout",
          "text": [
            "{'First name': 'Lucy', 'Last name': 'Mendes', 'edad': 30, 'birth_month': 'enero'}\n",
            "Buenos días Lucy.\n"
          ]
        }
      ]
    },
    {
      "cell_type": "code",
      "source": [
        "persona3.describe_user()\n",
        "persona3.greeting_user()"
      ],
      "metadata": {
        "id": "yL_WdNxekbL7",
        "outputId": "773125f0-918a-49eb-a965-9643954a4b3d",
        "colab": {
          "base_uri": "https://localhost:8080/"
        }
      },
      "execution_count": null,
      "outputs": [
        {
          "output_type": "stream",
          "name": "stdout",
          "text": [
            "{'First name': 'Franss', 'Last name': 'Miller', 'edad': 75, 'birth_month': 'diciembre'}\n",
            "Buenos días Franss.\n"
          ]
        }
      ]
    },
    {
      "cell_type": "markdown",
      "source": [
        "---\n",
        "\n",
        "# Gracias por completar este laboratorio!\n",
        "\n",
        "---\n"
      ],
      "metadata": {
        "id": "MXXM4w69aIll"
      }
    }
  ]
}